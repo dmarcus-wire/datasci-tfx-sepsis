{
 "cells": [
  {
   "cell_type": "markdown",
   "id": "70bd1862-ae57-40f1-8a41-9a376edf3fbb",
   "metadata": {},
   "source": [
    "# TFX Keras Component Tutorial\n",
    "\n",
    "***A Component-by-Component Introduction to TensorFlow Extended (TFX)***"
   ]
  },
  {
   "cell_type": "markdown",
   "id": "1ccedc10-277a-41cd-bb9a-4d17078d5d25",
   "metadata": {},
   "source": [
    "# Upgrade pip"
   ]
  },
  {
   "cell_type": "code",
   "execution_count": 7,
   "id": "92d79630-0301-4dfd-b821-62aa70601561",
   "metadata": {},
   "outputs": [
    {
     "name": "stdout",
     "output_type": "stream",
     "text": [
      "Requirement already satisfied: pip in /opt/app-root/lib/python3.8/site-packages (22.0.4)\n",
      "\u001b[31mERROR: pip's dependency resolver does not currently take into account all the packages that are installed. This behaviour is the source of the following dependency conflicts.\n",
      "elyra 3.6.0 requires colorama, which is not installed.\u001b[0m\u001b[31m\n",
      "\u001b[0m/opt/app-root/lib64/python3.8/site-packages/setuptools/command/install.py:34: SetuptoolsDeprecationWarning: setup.py install is deprecated. Use build and pip and other standards-based tools.\n",
      "  warnings.warn(\n",
      "  \u001b[34;1m•\u001b[0m \u001b[39mUpdating \u001b[0m\u001b[36mpackaging\u001b[0m\u001b[39m (\u001b[0m\u001b[39;1m20.9\u001b[0m\u001b[39m -> \u001b[0m\u001b[39;1m21.3\u001b[0m\u001b[39m)\u001b[0m: \u001b[34mPending...\u001b[0m\n",
      "\u001b[1A\u001b[0J  \u001b[34;1m•\u001b[0m \u001b[39mUpdating \u001b[0m\u001b[36mpackaging\u001b[0m\u001b[39m (\u001b[0m\u001b[39;1m20.9\u001b[0m\u001b[39m -> \u001b[0m\u001b[39;1m21.3\u001b[0m\u001b[39m)\u001b[0m: \u001b[34mInstalling...\u001b[0m\n",
      "\u001b[1A\u001b[0J  \u001b[32;1m•\u001b[0m \u001b[39mUpdating \u001b[0m\u001b[36mpackaging\u001b[0m\u001b[39m (\u001b[0m\u001b[39;1m20.9\u001b[0m\u001b[39m -> \u001b[0m\u001b[32m21.3\u001b[0m\u001b[39m)\u001b[0m\n"
     ]
    }
   ],
   "source": [
    "import sys\n",
    "!pip install --upgrade pip\n",
    "!pip install poetry -q\n",
    "!poetry install -q"
   ]
  },
  {
   "cell_type": "markdown",
   "id": "12bc6e74-ad05-4e86-9c8b-393b95870c71",
   "metadata": {},
   "source": [
    "# Install TFX"
   ]
  },
  {
   "cell_type": "code",
   "execution_count": null,
   "id": "c1ceda53-4c91-4708-a615-9f3e35c0319e",
   "metadata": {},
   "outputs": [],
   "source": [
    "!pip install -Uq tfx"
   ]
  },
  {
   "cell_type": "markdown",
   "id": "c0b9de12-e165-42d4-8837-25eeca52a374",
   "metadata": {},
   "source": [
    "## Restart Runtime"
   ]
  },
  {
   "cell_type": "markdown",
   "id": "9374b906-c57d-43f5-b404-26745cb10141",
   "metadata": {},
   "source": [
    "# Import Packages"
   ]
  },
  {
   "cell_type": "code",
   "execution_count": null,
   "id": "7c10e83e-44ec-4bb9-8111-c49e94798c60",
   "metadata": {},
   "outputs": [],
   "source": [
    "import os\n",
    "import pprint\n",
    "import tempfile\n",
    "import urllib\n",
    "\n",
    "import absl\n",
    "import tensorflow as tf\n",
    "import tensorflow_model_analysis as tfma\n",
    "tf.get_logger().propagate = False\n",
    "pp = pprint.PrettyPrinter()\n",
    "\n",
    "from tfx import v1 as tfx\n",
    "from tfx.orchestration.experimental.interactive.interactive_context import InteractiveContext\n",
    "\n",
    "%load_ext tfx.orchestration.experimental.interactive.notebook_extensions.skip"
   ]
  },
  {
   "cell_type": "markdown",
   "id": "0d6c36dc-d8bb-48d5-b18a-8bc4ded538d9",
   "metadata": {},
   "source": [
    "## Check Versions"
   ]
  },
  {
   "cell_type": "code",
   "execution_count": null,
   "id": "4d8403c7-a0c5-4c09-aa5e-caa58a8d534e",
   "metadata": {},
   "outputs": [],
   "source": [
    "print('TensorFlow version: {}'.format(tf.__version__))\n",
    "print('TFX version: {}'.format(tfx.__version__))"
   ]
  },
  {
   "cell_type": "markdown",
   "id": "f580ad3c-a3c9-4e06-92e2-c400091217ae",
   "metadata": {},
   "source": [
    "# Set Pipeline Paths"
   ]
  },
  {
   "cell_type": "code",
   "execution_count": null,
   "id": "3d6b0503-2b39-4cc9-b39d-7632f93fdb69",
   "metadata": {},
   "outputs": [],
   "source": [
    "# This is the root directory for your TFX pip package installation.\n",
    "_tfx_root = tfx.__path__[0]\n",
    "\n",
    "# This is the directory containing the TFX Vitals Pipeline example.\n",
    "_vitals_root = os.path.join(_tfx_root, 'examples/vitals')\n",
    "\n",
    "# This is the path where your model will be pushed for serving.\n",
    "_serving_model_dir = os.path.join(\n",
    "    tempfile.mkdtemp(), 'serving_model/vitals_simple')\n",
    "\n",
    "# Set up logging.\n",
    "absl.logging.set_verbosity(absl.logging.INFO)"
   ]
  },
  {
   "cell_type": "code",
   "execution_count": null,
   "id": "e176f5e2-b04a-4d76-9d56-00472c89ce34",
   "metadata": {},
   "outputs": [],
   "source": [
    "# Fetch the Training Data"
   ]
  },
  {
   "cell_type": "code",
   "execution_count": null,
   "id": "c005353b-c29c-44ff-be3d-99ba6289895d",
   "metadata": {},
   "outputs": [],
   "source": [
    "_attr_root = tempfile.mkdtemp(prefix='tfx-data')\n",
    "ATTR_PATH = 'https://raw.githubusercontent.com/redhat-na-ssa/mlops-prototype/main/data/dataSepsis/csv_format/attribute_definitions.csv'\n",
    "_attr_filepath = os.path.join(_attr_root, \"data.csv\")\n",
    "urllib.request.urlretrieve(ATTR_PATH, _attr_filepath)"
   ]
  },
  {
   "cell_type": "markdown",
   "id": "22f9208f-f9bc-4368-a5ed-5575ac22ca04",
   "metadata": {},
   "source": [
    "# View the Data"
   ]
  },
  {
   "cell_type": "code",
   "execution_count": null,
   "id": "f19a8259-3938-4e8e-8c45-36e5c7c55d98",
   "metadata": {},
   "outputs": [],
   "source": [
    "!head {_attr_filepath}"
   ]
  },
  {
   "cell_type": "code",
   "execution_count": null,
   "id": "d0bc023d-7a44-4c58-a828-dbfa4458fa9e",
   "metadata": {},
   "outputs": [],
   "source": [
    "_data_root = tempfile.mkdtemp(prefix='tfx-data')\n",
    "DATA_PATH = 'https://raw.githubusercontent.com/redhat-na-ssa/mlops-prototype/main/data/dataSepsis/csv_format/pat_vitals_labeled-dataSepsis.csv'\n",
    "_data_filepath = os.path.join(_data_root, \"data.csv\")\n",
    "urllib.request.urlretrieve(DATA_PATH, _data_filepath)"
   ]
  },
  {
   "cell_type": "markdown",
   "id": "5bb02f27-007d-4770-b851-9f461edc8255",
   "metadata": {},
   "source": [
    "# View the Data"
   ]
  },
  {
   "cell_type": "code",
   "execution_count": null,
   "id": "1684b297-43b7-46f1-93ea-f5ddb0137d9a",
   "metadata": {},
   "outputs": [],
   "source": [
    "!head {_data_filepath}"
   ]
  },
  {
   "cell_type": "markdown",
   "id": "181e6367-21bd-48f4-af8d-02ce8b94bbcf",
   "metadata": {},
   "source": [
    "# Create the InteractiveContext\n",
    "\n",
    "This allow us to run TFX components interactively in this notebook."
   ]
  },
  {
   "cell_type": "code",
   "execution_count": null,
   "id": "cf89c6e4-58d6-423b-ad12-24e06e372035",
   "metadata": {},
   "outputs": [],
   "source": [
    "# Here, we create an InteractiveContext using default parameters. This will\n",
    "# use a temporary directory with an ephemeral ML Metadata database instance.\n",
    "# To use your own pipeline root or database, the optional properties\n",
    "# `pipeline_root` and `metadata_connection_config` may be passed to\n",
    "# InteractiveContext. Calls to InteractiveContext are no-ops outside of the\n",
    "# notebook.\n",
    "context = InteractiveContext()"
   ]
  },
  {
   "cell_type": "markdown",
   "id": "5e0d69b5-4482-496b-8411-48a5d1d33e35",
   "metadata": {},
   "source": [
    "# ExampleGen\n",
    "\n",
    "The ExampleGen component is usually at the start of a TFX pipeline. It will:\n",
    "\n",
    "1. Split data into training and evaluation sets (by default, 2/3 training + 1/3 eval)\n",
    "1. Convert data into the tf.Example format \n",
    "1. Copy data into the _tfx_root directory for other components to access\n",
    "ExampleGen takes as input the path to your data source. In our case, this is the _data_root path that contains the downloaded CSV.\n",
    "\n",
    "Note: In this notebook, we can instantiate components one-by-one and run them with InteractiveContext.run(). By contrast, in a production setting, we would specify all the components upfront in a Pipeline to pass to the orchestrator (see the Building a TFX Pipeline Guide). https://www.tensorflow.org/tfx/guide/build_tfx_pipeline\n",
    "\n",
    "## Enabling the Cache\n",
    "\n",
    "When using the InteractiveContext in a notebook to develop a pipeline you can control when individual components will cache their outputs. Set enable_cache to True when you want to reuse the previous output artifacts that the component generated. Set enable_cache to False when you want to recompute the output artifacts for a component, if you are making changes to the code for example."
   ]
  },
  {
   "cell_type": "code",
   "execution_count": null,
   "id": "dddfef73-a3fc-4eac-8a3b-ff86d8a8c199",
   "metadata": {},
   "outputs": [],
   "source": [
    "example_gen = tfx.components.CsvExampleGen(input_base=_data_root)\n",
    "context.run(example_gen, enable_cache=True)"
   ]
  },
  {
   "cell_type": "markdown",
   "id": "7980bdcc-51bd-4bf2-bd0d-8fdf31646071",
   "metadata": {},
   "source": [
    "Let's examine the output artifacts of `ExampleGen`. This component produces two artifacts, training examples and evaluation examples:"
   ]
  },
  {
   "cell_type": "code",
   "execution_count": null,
   "id": "e74a3de5-4318-48ba-b886-364dba3ba3cc",
   "metadata": {},
   "outputs": [],
   "source": [
    "artifact = example_gen.outputs['examples'].get()[0]\n",
    "print(artifact.split_names, artifact.uri)"
   ]
  },
  {
   "cell_type": "markdown",
   "id": "0f8fab01-1e15-4a02-b9fd-e50296c7f34b",
   "metadata": {},
   "source": [
    "We can also take a look at the first training examples:"
   ]
  },
  {
   "cell_type": "code",
   "execution_count": null,
   "id": "000f13cc-8c39-433b-8484-dda26f0fe948",
   "metadata": {},
   "outputs": [],
   "source": [
    "# Get the URI of the output artifact representing the training examples, which is a directory\n",
    "train_uri = os.path.join(example_gen.outputs['examples'].get()[0].uri, 'Split-train')\n",
    "\n",
    "# Get the list of files in this directory (all compressed TFRecord files)\n",
    "tfrecord_filenames = [os.path.join(train_uri, name)\n",
    "                      for name in os.listdir(train_uri)]\n",
    "\n",
    "# Create a `TFRecordDataset` to read these files\n",
    "dataset = tf.data.TFRecordDataset(tfrecord_filenames, compression_type=\"GZIP\")\n",
    "\n",
    "# Iterate over the first 3 records and decode them.\n",
    "for tfrecord in dataset.take(3):\n",
    "  serialized_example = tfrecord.numpy()\n",
    "  example = tf.train.Example()\n",
    "  example.ParseFromString(serialized_example)\n",
    "  pp.pprint(example)"
   ]
  },
  {
   "cell_type": "markdown",
   "id": "607a655f-ca8a-4bf8-a2f4-043c5ff2fde4",
   "metadata": {},
   "source": [
    "# StatisticsGen\n",
    "\n",
    "The StatisticsGen component computes statistics over your dataset for data analysis, as well as for use in downstream components. It uses the TensorFlow Data Validation library.\n",
    "\n",
    "StatisticsGen takes as input the dataset we just ingested using ExampleGen."
   ]
  },
  {
   "cell_type": "code",
   "execution_count": null,
   "id": "600a6e72-a402-45c5-afda-348e8942c096",
   "metadata": {},
   "outputs": [],
   "source": [
    "statistics_gen = tfx.components.StatisticsGen(\n",
    "    examples=example_gen.outputs['examples'])\n",
    "context.run(statistics_gen, enable_cache=True)"
   ]
  },
  {
   "cell_type": "markdown",
   "id": "1e2a997b-6c89-443f-8fc9-ebcc216ae613",
   "metadata": {},
   "source": [
    "After `StatisticsGen` finishes running, we can visualize the outputted statistics. Try playing with the different plots!"
   ]
  },
  {
   "cell_type": "code",
   "execution_count": null,
   "id": "e043346f-a9b3-4ff8-bef9-88a25b7eed3d",
   "metadata": {},
   "outputs": [],
   "source": [
    "context.show(statistics_gen.outputs['statistics'])"
   ]
  },
  {
   "cell_type": "markdown",
   "id": "1f59395c-e2d9-48c8-a1fb-54c3d2c8ad76",
   "metadata": {},
   "source": [
    "# SchemaGen\n",
    "\n",
    "The `SchemaGen` component generates a schema based on your data statistics. (A schema defines the expected bounds, types, and properties of the features in your dataset.) It also uses the [TensorFlow Data Validation](https://www.tensorflow.org/tfx/data_validation/get_started) library.\n",
    "\n",
    "Note: The generated schema is best-effort and only tries to infer basic properties of the data. It is expected that you review and modify it as needed.\n",
    "\n",
    "`SchemaGen` will take as input the statistics that we generated with `StatisticsGen`, looking at the training split by default."
   ]
  },
  {
   "cell_type": "code",
   "execution_count": null,
   "id": "8ed843de-6f9a-4d4c-a3e5-c88f2aba1584",
   "metadata": {},
   "outputs": [],
   "source": [
    "schema_gen = tfx.components.SchemaGen(\n",
    "    statistics=statistics_gen.outputs['statistics'],\n",
    "    infer_feature_shape=False)\n",
    "context.run(schema_gen, enable_cache=True)"
   ]
  },
  {
   "cell_type": "markdown",
   "id": "f598f204-d314-4acc-b065-71c235dbcee2",
   "metadata": {},
   "source": [
    "After `SchemaGen` finishes running, we can visualize the generated schema as a table."
   ]
  },
  {
   "cell_type": "code",
   "execution_count": null,
   "id": "8852ee69-b0c4-45ff-84cc-3b3a1ac842a4",
   "metadata": {},
   "outputs": [],
   "source": [
    "context.show(schema_gen.outputs['schema'])"
   ]
  },
  {
   "cell_type": "markdown",
   "id": "91b3c2d5-afa6-4729-bbb6-bf7f944231f6",
   "metadata": {},
   "source": [
    "Each feature in your dataset shows up as a row in the schema table, alongside its properties. The schema also captures all the values that a categorical feature takes on, denoted as its domain."
   ]
  },
  {
   "cell_type": "markdown",
   "id": "eaa91d9b-45f0-480b-958f-89b3af3fe98e",
   "metadata": {},
   "source": [
    "# ExampleValidator\n",
    "The `ExampleValidator` component detects anomalies in your data, based on the expectations defined by the schema. It also uses the [TensorFlow Data Validation](https://www.tensorflow.org/tfx/data_validation/get_started) library.\n",
    "\n",
    "`ExampleValidator` will take as input the statistics from `StatisticsGen`, and the schema from `SchemaGen`."
   ]
  },
  {
   "cell_type": "code",
   "execution_count": null,
   "id": "738f41db-8c41-4862-94fc-0a7ecd01efdb",
   "metadata": {},
   "outputs": [],
   "source": [
    "example_validator = tfx.components.ExampleValidator(\n",
    "    statistics=statistics_gen.outputs['statistics'],\n",
    "    schema=schema_gen.outputs['schema'])\n",
    "context.run(example_validator, enable_cache=True)"
   ]
  },
  {
   "cell_type": "markdown",
   "id": "2a049bcb-c633-40c0-8acd-9841fe70dbfe",
   "metadata": {},
   "source": [
    "After `ExampleValidator` finishes running, we can visualize the anomalies as a table."
   ]
  },
  {
   "cell_type": "code",
   "execution_count": null,
   "id": "138d2def-5013-4c76-84d9-eebf34a151ed",
   "metadata": {},
   "outputs": [],
   "source": [
    "context.show(example_validator.outputs['anomalies'])"
   ]
  },
  {
   "cell_type": "markdown",
   "id": "0a53cf98-2082-4f23-b8b0-7324fca9acf1",
   "metadata": {},
   "source": [
    "In the anomalies table, we can see that there are no anomalies. This is what we'd expect, since this the first dataset that we've analyzed and the schema is tailored to it. You should review this schema -- anything unexpected means an anomaly in the data. Once reviewed, the schema can be used to guard future data, and anomalies produced here can be used to debug model performance, understand how your data evolves over time, and identify data errors."
   ]
  },
  {
   "cell_type": "markdown",
   "id": "6fac5740-c9f9-4a8c-acbb-b013ab140cb8",
   "metadata": {},
   "source": [
    "# Transform\n",
    "\n",
    "The `Transform` component performs feature engineering for both training and serving. It uses the [TensorFlow Transform](https://www.tensorflow.org/tfx/transform/get_started) library.\n",
    "\n",
    "`Transform` will take as input the data from `ExampleGen`, the schema from `SchemaGen`, as well as a module that contains user-defined Transform code.\n",
    "\n",
    "Let's see an example of user-defined Transform code below (for an introduction to the TensorFlow Transform APIs, [see the tutorial](https://www.tensorflow.org/tfx/tutorials/transform/simple)). First, we define a few constants for feature engineering:\n",
    "\n",
    "Note: The `%%writefile` cell magic will save the contents of the cell as a `.py` file on disk. This allows the `Transform` component to load your code as a module."
   ]
  },
  {
   "cell_type": "code",
   "execution_count": null,
   "id": "83843830-e4cf-4cd9-ba49-70af8ba392fc",
   "metadata": {},
   "outputs": [],
   "source": [
    "_vitals_constants_module_file = 'vitals_constants.py'"
   ]
  },
  {
   "cell_type": "code",
   "execution_count": null,
   "id": "aecd2ed2-2541-45a1-8c5e-d08a5b160cd9",
   "metadata": {},
   "outputs": [],
   "source": [
    "%%writefile {_vitals_constants_module_file}\n",
    "\n",
    "NUMERICAL_FEATURES = ['HR', 'Resp', 'Temp']\n",
    "\n",
    "# Keys\n",
    "LABEL_KEY = 'isSepsis'\n",
    "\n",
    "def t_name(key):\n",
    "  \"\"\"\n",
    "  Rename the feature keys so that they don't clash with the raw keys when\n",
    "  running the Evaluator component.\n",
    "  Args:\n",
    "    key: The original feature key\n",
    "  Returns:\n",
    "    key with '_xf' appended\n",
    "  \"\"\"\n",
    "  return key + '_xf'"
   ]
  },
  {
   "cell_type": "markdown",
   "id": "d3e2b52b-5f75-408a-aeac-8120378e9bd7",
   "metadata": {},
   "source": [
    "Next, we write a `preprocessing_fn` that takes in raw data as input, and returns transformed features that our model can train on:"
   ]
  },
  {
   "cell_type": "code",
   "execution_count": null,
   "id": "bed6ed86-85be-4571-a40a-72e581d3bd62",
   "metadata": {},
   "outputs": [],
   "source": [
    "_vitals_transform_module_file = 'vitals_transform.py'"
   ]
  },
  {
   "cell_type": "code",
   "execution_count": null,
   "id": "b4423172-a736-40d1-86d3-bd06cb2c0184",
   "metadata": {},
   "outputs": [],
   "source": [
    "%%writefile {_vitals_transform_module_file}\n",
    "\n",
    "import tensorflow as tf\n",
    "import tensorflow_transform as tft\n",
    "\n",
    "# Imported files such as vitals_constants are normally cached, so changes are\n",
    "# not honored after the first import.  Normally this is good for efficiency, but\n",
    "# during development when we may be iterating code it can be a problem. To\n",
    "# avoid this problem during development, reload the file.\n",
    "import vitals_constants\n",
    "import sys\n",
    "import importlib\n",
    "importlib.reload(vitals_constants)\n",
    "\n",
    "_NUMERICAL_FEATURES = vitals_constants.NUMERICAL_FEATURES\n",
    "_LABEL_KEY = vitals_constants.LABEL_KEY\n",
    "\n",
    "\n",
    "def _fill_in_missing(x):\n",
    "  \"\"\"Replace missing values in a SparseTensor.\n",
    "  Fills in missing values of `x` with '' or 0, and converts to a dense tensor.\n",
    "  Args:\n",
    "    x: A `SparseTensor` of rank 2.  Its dense shape should have size at most 1\n",
    "      in the second dimension.\n",
    "  Returns:\n",
    "    A rank 1 tensor where missing values of `x` have been filled in.\n",
    "  \"\"\"\n",
    "  if not isinstance(x, tf.sparse.SparseTensor):\n",
    "    return x\n",
    "\n",
    "  default_value = '' if x.dtype == tf.string else 0\n",
    "  return tf.squeeze(\n",
    "      tf.sparse.to_dense(\n",
    "          tf.SparseTensor(x.indices, x.values, [x.dense_shape[0], 1]),\n",
    "          default_value),\n",
    "      axis=1)\n",
    "\n",
    "\n",
    "def preprocessing_fn(inputs):\n",
    "  \"\"\"tf.transform's callback function for preprocessing inputs.\n",
    "  Args:\n",
    "    inputs: map from feature keys to raw not-yet-transformed features.\n",
    "  Returns:\n",
    "    Map from string feature key to transformed feature operations.\n",
    "  \"\"\"\n",
    "  outputs = {}\n",
    "  for key in _NUMERICAL_FEATURES:\n",
    "    # If sparse make it dense, setting nan's to 0 or '', and apply zscore.\n",
    "    outputs[vitals_constants.t_name(key)] = tft.scale_to_z_score(\n",
    "        _fill_in_missing(inputs[key]), name=key)\n",
    "\n",
    "  outputs[_LABEL_KEY] = _fill_in_missing(inputs[_LABEL_KEY]) \n",
    "    \n",
    "  return outputs"
   ]
  },
  {
   "cell_type": "markdown",
   "id": "22501ffc-eca2-4240-8a44-48f2a63df459",
   "metadata": {},
   "source": [
    "Now, we pass in this feature engineering code to the `Transform` component and run it to transform your data."
   ]
  },
  {
   "cell_type": "code",
   "execution_count": null,
   "id": "d9405489-2615-4de1-85f3-fea4a3681504",
   "metadata": {},
   "outputs": [],
   "source": [
    "transform = tfx.components.Transform(\n",
    "    examples=example_gen.outputs['examples'],\n",
    "    schema=schema_gen.outputs['schema'],\n",
    "    module_file=os.path.abspath(_vitals_transform_module_file))\n",
    "context.run(transform, enable_cache=True)"
   ]
  },
  {
   "cell_type": "markdown",
   "id": "14891c38-f22a-4f7c-8b73-a5f36dbcfc33",
   "metadata": {},
   "source": [
    "Let's examine the output artifacts of `Transform`. This component produces two types of outputs:\n",
    "\n",
    "* `transform_graph` is the graph that can perform the preprocessing operations (this graph will be included in the serving and evaluation models).\n",
    "* `transformed_examples` represents the preprocessed training and evaluation data."
   ]
  },
  {
   "cell_type": "code",
   "execution_count": null,
   "id": "7aa529b2-fc27-45ba-93bd-4965d6715d80",
   "metadata": {},
   "outputs": [],
   "source": [
    "transform.outputs"
   ]
  },
  {
   "cell_type": "markdown",
   "id": "6eaad470-803e-40e8-afc1-efa9f5c2b6f8",
   "metadata": {},
   "source": [
    "Take a peek at the `transform_graph` artifact.  It points to a directory containing three subdirectories."
   ]
  },
  {
   "cell_type": "code",
   "execution_count": null,
   "id": "a2c8dbfe-9701-4fb4-a1a2-c1df8ddd7ea2",
   "metadata": {},
   "outputs": [],
   "source": [
    "train_uri = transform.outputs['transform_graph'].get()[0].uri\n",
    "os.listdir(train_uri)"
   ]
  },
  {
   "cell_type": "markdown",
   "id": "11fe1543-680b-41f0-aba8-8fd5cb1528ac",
   "metadata": {},
   "source": [
    "The `transformed_metadata` subdirectory contains the schema of the preprocessed data. The `transform_fn` subdirectory contains the actual preprocessing graph. The `metadata` subdirectory contains the schema of the original data.\n",
    "\n",
    "We can also take a look at the first three transformed examples:"
   ]
  },
  {
   "cell_type": "code",
   "execution_count": null,
   "id": "33a6ffb9-4471-428f-8e07-15e41eb4fcb0",
   "metadata": {},
   "outputs": [],
   "source": [
    "# Get the URI of the output artifact representing the transformed examples, which is a directory\n",
    "train_uri = os.path.join(transform.outputs['transformed_examples'].get()[0].uri, 'Split-train')\n",
    "\n",
    "# Get the list of files in this directory (all compressed TFRecord files)\n",
    "tfrecord_filenames = [os.path.join(train_uri, name)\n",
    "                      for name in os.listdir(train_uri)]\n",
    "\n",
    "# Create a `TFRecordDataset` to read these files\n",
    "dataset = tf.data.TFRecordDataset(tfrecord_filenames, compression_type=\"GZIP\")\n",
    "\n",
    "# Iterate over the first 1 records and decode them.\n",
    "for tfrecord in dataset.take(1):\n",
    "  serialized_example = tfrecord.numpy()\n",
    "  example = tf.train.Example()\n",
    "  example.ParseFromString(serialized_example)\n",
    "  pp.pprint(example)"
   ]
  },
  {
   "cell_type": "markdown",
   "id": "34dab7a2-6545-40d2-ab5d-4779fa7dcc2a",
   "metadata": {},
   "source": [
    "After the `Transform` component has transformed your data into features, and the next step is to train a model."
   ]
  },
  {
   "cell_type": "markdown",
   "id": "318292cf-8e9f-4ab2-adbd-8bee6ee6f3e5",
   "metadata": {},
   "source": [
    "# Trainer\n",
    "\n",
    "The `Trainer` component will train a model that you define in TensorFlow. Default Trainer support Estimator API, to use Keras API, you need to specify [Generic Trainer](https://github.com/tensorflow/community/blob/master/rfcs/20200117-tfx-generic-trainer.md) by setup `custom_executor_spec=executor_spec.ExecutorClassSpec(GenericExecutor)` in Trainer's contructor.\n",
    "\n",
    "`Trainer` takes as input the schema from `SchemaGen`, the transformed data and graph from `Transform`, training parameters, as well as a module that contains user-defined model code."
   ]
  },
  {
   "cell_type": "code",
   "execution_count": null,
   "id": "f6d90e3b-72dd-4779-a3ac-5c8374936558",
   "metadata": {},
   "outputs": [],
   "source": [
    "_vitals_trainer_module_file = 'vitals_trainer.py'"
   ]
  },
  {
   "cell_type": "code",
   "execution_count": null,
   "id": "8f7233d6-199b-4ede-9efa-7957e1acbb24",
   "metadata": {},
   "outputs": [],
   "source": [
    "%%writefile {_vitals_trainer_module_file}\n",
    "\n",
    "from typing import Dict, List, Text\n",
    "\n",
    "import os\n",
    "import glob\n",
    "from absl import logging\n",
    "\n",
    "import datetime\n",
    "import tensorflow as tf\n",
    "import tensorflow_transform as tft\n",
    "\n",
    "from tfx import v1 as tfx\n",
    "from tfx_bsl.public import tfxio\n",
    "from tensorflow_transform import TFTransformOutput\n",
    "\n",
    "# Imported files such as vitals_constants are normally cached, so changes are\n",
    "# not honored after the first import.  Normally this is good for efficiency, but\n",
    "# during development when we may be iterating code it can be a problem. To\n",
    "# avoid this problem during development, reload the file.\n",
    "import vitals_constants\n",
    "import sys\n",
    "import importlib\n",
    "importlib.reload(vitals_constants)\n",
    "\n",
    "_LABEL_KEY = vitals_constants.LABEL_KEY\n",
    "\n",
    "_BATCH_SIZE = 40\n",
    "\n",
    "\n",
    "def _input_fn(file_pattern: List[Text],\n",
    "              data_accessor: tfx.components.DataAccessor,\n",
    "              tf_transform_output: tft.TFTransformOutput,\n",
    "              batch_size: int = 200) -> tf.data.Dataset:\n",
    "  \"\"\"Generates features and label for tuning/training.\n",
    "\n",
    "  Args:\n",
    "    file_pattern: List of paths or patterns of input tfrecord files.\n",
    "    data_accessor: DataAccessor for converting input to RecordBatch.\n",
    "    tf_transform_output: A TFTransformOutput.\n",
    "    batch_size: representing the number of consecutive elements of returned\n",
    "      dataset to combine in a single batch\n",
    "\n",
    "  Returns:\n",
    "    A dataset that contains (features, indices) tuple where features is a\n",
    "      dictionary of Tensors, and indices is a single Tensor of label indices.\n",
    "  \"\"\"\n",
    "  return data_accessor.tf_dataset_factory(\n",
    "      file_pattern,\n",
    "      tfxio.TensorFlowDatasetOptions(\n",
    "          batch_size=batch_size, label_key=_LABEL_KEY),\n",
    "      tf_transform_output.transformed_metadata.schema)\n",
    "\n",
    "def _get_tf_examples_serving_signature(model, tf_transform_output):\n",
    "  \"\"\"Returns a serving signature that accepts `tensorflow.Example`.\"\"\"\n",
    "\n",
    "  # We need to track the layers in the model in order to save it.\n",
    "  # TODO(b/162357359): Revise once the bug is resolved.\n",
    "  model.tft_layer_inference = tf_transform_output.transform_features_layer()\n",
    "\n",
    "  @tf.function(input_signature=[\n",
    "      tf.TensorSpec(shape=[None], dtype=tf.string, name='examples')\n",
    "  ])\n",
    "  def serve_tf_examples_fn(serialized_tf_example):\n",
    "    \"\"\"Returns the output to be used in the serving signature.\"\"\"\n",
    "    raw_feature_spec = tf_transform_output.raw_feature_spec()\n",
    "    # Remove label feature since these will not be present at serving time.\n",
    "    raw_feature_spec.pop(_LABEL_KEY)\n",
    "    raw_features = tf.io.parse_example(serialized_tf_example, raw_feature_spec)\n",
    "    transformed_features = model.tft_layer_inference(raw_features)\n",
    "    logging.info('serve_transformed_features = %s', transformed_features)\n",
    "\n",
    "    outputs = model(transformed_features)\n",
    "    # TODO(b/154085620): Convert the predicted labels from the model using a\n",
    "    # reverse-lookup (opposite of transform.py).\n",
    "    return {'outputs': outputs}\n",
    "\n",
    "  return serve_tf_examples_fn\n",
    "\n",
    "\n",
    "def _get_transform_features_signature(model, tf_transform_output):\n",
    "  \"\"\"Returns a serving signature that applies tf.Transform to features.\"\"\"\n",
    "\n",
    "  # We need to track the layers in the model in order to save it.\n",
    "  # TODO(b/162357359): Revise once the bug is resolved.\n",
    "  model.tft_layer_eval = tf_transform_output.transform_features_layer()\n",
    "\n",
    "  @tf.function(input_signature=[\n",
    "      tf.TensorSpec(shape=[None], dtype=tf.string, name='examples')\n",
    "  ])\n",
    "  def transform_features_fn(serialized_tf_example):\n",
    "    \"\"\"Returns the transformed_features to be fed as input to evaluator.\"\"\"\n",
    "    raw_feature_spec = tf_transform_output.raw_feature_spec()\n",
    "    raw_features = tf.io.parse_example(serialized_tf_example, raw_feature_spec)\n",
    "    transformed_features = model.tft_layer_eval(raw_features)\n",
    "    logging.info('eval_transformed_features = %s', transformed_features)\n",
    "    return transformed_features\n",
    "\n",
    "  return transform_features_fn\n",
    "\n",
    "\n",
    "def export_serving_model(tf_transform_output, model, output_dir):\n",
    "  \"\"\"Exports a keras model for serving.\n",
    "  Args:\n",
    "    tf_transform_output: Wrapper around output of tf.Transform.\n",
    "    model: A keras model to export for serving.\n",
    "    output_dir: A directory where the model will be exported to.\n",
    "  \"\"\"\n",
    "  # The layer has to be saved to the model for keras tracking purpases.\n",
    "  model.tft_layer = tf_transform_output.transform_features_layer()\n",
    "\n",
    "  signatures = {\n",
    "      'serving_default':\n",
    "          _get_tf_examples_serving_signature(model, tf_transform_output),\n",
    "      'transform_features':\n",
    "          _get_transform_features_signature(model, tf_transform_output),\n",
    "  }\n",
    "\n",
    "  model.save(output_dir, save_format='tf', signatures=signatures)\n",
    "\n",
    "\n",
    "def _build_keras_model(tf_transform_output: TFTransformOutput\n",
    "                       ) -> tf.keras.Model:\n",
    "  \"\"\"Creates a DNN Keras model for classifying vitals data.\n",
    "\n",
    "  Args:\n",
    "    tf_transform_output: [TFTransformOutput], the outputs from Transform\n",
    "\n",
    "  Returns:\n",
    "    A keras Model.\n",
    "  \"\"\"\n",
    "  feature_spec = tf_transform_output.transformed_feature_spec().copy()\n",
    "  feature_spec.pop(_LABEL_KEY)\n",
    "\n",
    "  inputs = {}\n",
    "  for key, spec in feature_spec.items():\n",
    "    if isinstance(spec, tf.io.VarLenFeature):\n",
    "      inputs[key] = tf.keras.layers.Input(\n",
    "          shape=[None], name=key, dtype=spec.dtype, sparse=True)\n",
    "    elif isinstance(spec, tf.io.FixedLenFeature):\n",
    "      # TODO(b/208879020): Move into schema such that spec.shape is [1] and not\n",
    "      # [] for scalars.\n",
    "      inputs[key] = tf.keras.layers.Input(\n",
    "          shape=spec.shape or [1], name=key, dtype=spec.dtype)\n",
    "    else:\n",
    "      raise ValueError('Spec type is not supported: ', key, spec)\n",
    "  \n",
    "  output = tf.keras.layers.Concatenate()(tf.nest.flatten(inputs))\n",
    "  output = tf.keras.layers.Dense(100, activation='relu')(output)\n",
    "  output = tf.keras.layers.Dense(70, activation='relu')(output)\n",
    "  output = tf.keras.layers.Dense(50, activation='relu')(output)\n",
    "  output = tf.keras.layers.Dense(20, activation='relu')(output)\n",
    "  output = tf.keras.layers.Dense(1)(output)\n",
    "  return tf.keras.Model(inputs=inputs, outputs=output)\n",
    "\n",
    "\n",
    "# TFX Trainer will call this function.\n",
    "def run_fn(fn_args: tfx.components.FnArgs):\n",
    "  \"\"\"Train the model based on given args.\n",
    "\n",
    "  Args:\n",
    "    fn_args: Holds args used to train the model as name/value pairs.\n",
    "  \"\"\"\n",
    "  tf_transform_output = tft.TFTransformOutput(fn_args.transform_output)\n",
    "\n",
    "  train_dataset = _input_fn(fn_args.train_files, fn_args.data_accessor, \n",
    "                            tf_transform_output, _BATCH_SIZE)\n",
    "  eval_dataset = _input_fn(fn_args.eval_files, fn_args.data_accessor, \n",
    "                           tf_transform_output, _BATCH_SIZE)\n",
    "\n",
    "  model = _build_keras_model(tf_transform_output)\n",
    "\n",
    "  model.compile(\n",
    "      loss=tf.keras.losses.BinaryCrossentropy(from_logits=True),\n",
    "      optimizer=tf.keras.optimizers.Adam(learning_rate=0.001),\n",
    "      metrics=[tf.keras.metrics.BinaryAccuracy()])\n",
    "\n",
    "  tensorboard_callback = tf.keras.callbacks.TensorBoard(\n",
    "      log_dir=fn_args.model_run_dir, update_freq='batch')\n",
    "\n",
    "  model.fit(\n",
    "      train_dataset,\n",
    "      steps_per_epoch=fn_args.train_steps,\n",
    "      validation_data=eval_dataset,\n",
    "      validation_steps=fn_args.eval_steps,\n",
    "      callbacks=[tensorboard_callback])\n",
    "\n",
    "  # Export the model.\n",
    "  export_serving_model(tf_transform_output, model, fn_args.serving_model_dir)"
   ]
  },
  {
   "cell_type": "markdown",
   "id": "b625873e-183d-4c5f-975f-245934ad1916",
   "metadata": {},
   "source": [
    "Now, we pass in this model code to the `Trainer` component and run it to train the model."
   ]
  },
  {
   "cell_type": "code",
   "execution_count": null,
   "id": "c421ff7f-5115-4d48-aee7-94fc4843a210",
   "metadata": {},
   "outputs": [],
   "source": [
    "trainer = tfx.components.Trainer(\n",
    "    module_file=os.path.abspath(_vitals_trainer_module_file),\n",
    "    examples=transform.outputs['transformed_examples'],\n",
    "    transform_graph=transform.outputs['transform_graph'],\n",
    "    schema=schema_gen.outputs['schema'],\n",
    "    train_args=tfx.proto.TrainArgs(num_steps=10000),\n",
    "    eval_args=tfx.proto.EvalArgs(num_steps=5000))\n",
    "context.run(trainer, enable_cache=True)"
   ]
  },
  {
   "cell_type": "markdown",
   "id": "d6dd4dc5-f50a-4946-ab6b-652f39b5fcdb",
   "metadata": {},
   "source": [
    "# Analyze Training with TensorBoard\n",
    "\n",
    "Take a peek at the trainer artifact. It points to a directory containing the model subdirectories."
   ]
  },
  {
   "cell_type": "code",
   "execution_count": null,
   "id": "5fc2ed27-387b-4c44-ac98-01ddec1d0e8d",
   "metadata": {},
   "outputs": [],
   "source": [
    "model_artifact_dir = trainer.outputs['model'].get()[0].uri\n",
    "pp.pprint(os.listdir(model_artifact_dir))\n",
    "model_dir = os.path.join(model_artifact_dir, 'Format-Serving')\n",
    "pp.pprint(os.listdir(model_dir))"
   ]
  },
  {
   "cell_type": "code",
   "execution_count": null,
   "id": "ecdcdd87-95e1-4491-af3e-87b5f660be4c",
   "metadata": {},
   "outputs": [],
   "source": [
    "import tensorboard"
   ]
  },
  {
   "cell_type": "markdown",
   "id": "1e0a7abf-ba45-4f2e-b675-1fbda53e83e0",
   "metadata": {},
   "source": [
    "Optionally, we can connect TensorBoard to the Trainer to analyze our model's training curves."
   ]
  },
  {
   "cell_type": "code",
   "execution_count": null,
   "id": "10288a27-b0d3-4ef5-8a98-fa5bce142704",
   "metadata": {},
   "outputs": [],
   "source": [
    "model_run_artifact_dir = trainer.outputs['model_run'].get()[0].uri\n",
    "\n",
    "#%load_ext tensorboard\n",
    "%reload_ext tensorboard\n",
    "%tensorboard --logdir {model_run_artifact_dir}"
   ]
  },
  {
   "cell_type": "markdown",
   "id": "e09e9b24-ca8e-4d66-8686-72ed3bb9b8b8",
   "metadata": {},
   "source": [
    "# Evaluator\n",
    "\n",
    "The Evaluator component computes model performance metrics over the evaluation set. It uses the TensorFlow Model Analysis library. The Evaluator can also optionally validate that a newly trained model is better than the previous model. This is useful in a production pipeline setting where you may automatically train and validate a model every day. In this notebook, we only train one model, so the Evaluator automatically will label the model as \"good\".\n",
    "\n",
    "Evaluator will take as input the data from ExampleGen, the trained model from Trainer, and slicing configuration. "
   ]
  },
  {
   "cell_type": "code",
   "execution_count": null,
   "id": "09736d41-40ff-4c5f-a38f-3511f3e0d14a",
   "metadata": {},
   "outputs": [],
   "source": [
    "# Imported files such as vitals_constants are normally cached, so changes are\n",
    "# not honored after the first import.  Normally this is good for efficiency, but\n",
    "# during development when we may be iterating code it can be a problem. To\n",
    "# avoid this problem during development, reload the file.\n",
    "import vitals_constants\n",
    "import sys\n",
    "import importlib\n",
    "importlib.reload(vitals_constants)\n",
    "\n",
    "eval_config = tfma.EvalConfig(\n",
    "    model_specs=[\n",
    "        # This assumes a serving model with signature 'serving_default'. If\n",
    "        # using estimator based EvalSavedModel, add signature_name: 'eval' and\n",
    "        # remove the label_key.\n",
    "        tfma.ModelSpec(\n",
    "            signature_name='serving_default',\n",
    "            label_key=vitals_constants.LABEL_KEY,\n",
    "            preprocessing_function_names=['transform_features'],\n",
    "            )\n",
    "        ],\n",
    "    metrics_specs=[\n",
    "        tfma.MetricsSpec(\n",
    "            # The metrics added here are in addition to those saved with the\n",
    "            # model (assuming either a keras model or EvalSavedModel is used).\n",
    "            # Any metrics added into the saved model (for example using\n",
    "            # model.compile(..., metrics=[...]), etc) will be computed\n",
    "            # automatically.\n",
    "            # To add validation thresholds for metrics saved with the model,\n",
    "            # add them keyed by metric name to the thresholds map.\n",
    "            metrics=[\n",
    "                tfma.MetricConfig(class_name='ExampleCount'),\n",
    "                tfma.MetricConfig(class_name='BinaryAccuracy',\n",
    "                  threshold=tfma.MetricThreshold(\n",
    "                      value_threshold=tfma.GenericValueThreshold(\n",
    "                          lower_bound={'value': 0.5}),\n",
    "                      # Change threshold will be ignored if there is no\n",
    "                      # baseline model resolved from MLMD (first run).\n",
    "                      change_threshold=tfma.GenericChangeThreshold(\n",
    "                          direction=tfma.MetricDirection.HIGHER_IS_BETTER,\n",
    "                          absolute={'value': -1e-10})))\n",
    "            ]\n",
    "        )\n",
    "    ],\n",
    "    slicing_specs=[\n",
    "        # An empty slice spec means the overall slice, i.e. the whole dataset.\n",
    "        tfma.SlicingSpec(),\n",
    "        # Data can be sliced along a feature column. In this case, data is\n",
    "        # sliced along feature column HR.\n",
    "        tfma.SlicingSpec(\n",
    "            feature_keys=['HR'])\n",
    "    ])"
   ]
  },
  {
   "cell_type": "markdown",
   "id": "c22dd0e5-15ee-41a5-92f4-46089c8d5f6d",
   "metadata": {},
   "source": [
    "Next, we give this configuration to `Evaluator` and run it."
   ]
  },
  {
   "cell_type": "code",
   "execution_count": null,
   "id": "77399485-5bcf-481a-8b89-70bd903ffc54",
   "metadata": {},
   "outputs": [],
   "source": [
    "# Use TFMA to compute a evaluation statistics over features of a model and\n",
    "# validate them against a baseline.\n",
    "\n",
    "# The model resolver is only required if performing model validation in addition\n",
    "# to evaluation. In this case we validate against the latest blessed model. If\n",
    "# no model has been blessed before (as in this case) the evaluator will make our\n",
    "# candidate the first blessed model.\n",
    "model_resolver = tfx.dsl.Resolver(\n",
    "      strategy_class=tfx.dsl.experimental.LatestBlessedModelStrategy,\n",
    "      model=tfx.dsl.Channel(type=tfx.types.standard_artifacts.Model),\n",
    "      model_blessing=tfx.dsl.Channel(\n",
    "          type=tfx.types.standard_artifacts.ModelBlessing)).with_id(\n",
    "              'latest_blessed_model_resolver')\n",
    "context.run(model_resolver, enable_cache=True)\n",
    "\n",
    "evaluator = tfx.components.Evaluator(\n",
    "    examples=example_gen.outputs['examples'],\n",
    "    model=trainer.outputs['model'],\n",
    "    baseline_model=model_resolver.outputs['model'],\n",
    "    eval_config=eval_config)\n",
    "context.run(evaluator, enable_cache=True)"
   ]
  },
  {
   "cell_type": "markdown",
   "id": "5797c6f6-bbf7-4c36-9cc5-ce1f907824a9",
   "metadata": {},
   "source": [
    "Now let's examine the output artifacts of `Evaluator`."
   ]
  },
  {
   "cell_type": "code",
   "execution_count": null,
   "id": "da341447-c6c9-4a72-be09-a0a884987066",
   "metadata": {},
   "outputs": [],
   "source": [
    "evaluator.outputs"
   ]
  },
  {
   "cell_type": "markdown",
   "id": "33af7c86-9693-4873-85d9-939e53c37f59",
   "metadata": {},
   "source": [
    "Using the evaluation output we can show the default visualization of global metrics on the entire evaluation set."
   ]
  },
  {
   "cell_type": "code",
   "execution_count": null,
   "id": "ef2e055a-c73b-4a5c-980a-786cf09b9a81",
   "metadata": {},
   "outputs": [],
   "source": [
    "context.show(evaluator.outputs['evaluation'])"
   ]
  },
  {
   "cell_type": "markdown",
   "id": "7f4f9579-0218-4758-b426-f3913d90c390",
   "metadata": {},
   "source": [
    "To see the visualization for sliced evaluation metrics, we can directly call the TensorFlow Model Analysis library."
   ]
  },
  {
   "cell_type": "code",
   "execution_count": null,
   "id": "01c3a087-ac32-4096-910e-40c4b6019935",
   "metadata": {},
   "outputs": [],
   "source": [
    "import tensorflow_model_analysis as tfma\n",
    "\n",
    "# Get the TFMA output result path and load the result.\n",
    "PATH_TO_RESULT = evaluator.outputs['evaluation'].get()[0].uri\n",
    "tfma_result = tfma.load_eval_result(PATH_TO_RESULT)\n",
    "\n",
    "# Show data sliced along feature column HR.\n",
    "tfma.view.render_slicing_metrics(\n",
    "    tfma_result, slicing_column='HR')"
   ]
  },
  {
   "cell_type": "markdown",
   "id": "db4f4f45-627f-44aa-aff5-b37858dbb5d5",
   "metadata": {},
   "source": [
    "This visualization shows the same metrics, but computed at every feature value of HR instead of on the entire evaluation set.\n",
    "\n",
    "TensorFlow Model Analysis supports many other visualizations, such as Fairness Indicators and plotting a time series of model performance. To learn more, see the tutorial.\n",
    "\n",
    "Since we added thresholds to our config, validation output is also available. The precence of a blessing artifact indicates that our model passed validation. Since this is the first validation being performed the candidate is automatically blessed."
   ]
  },
  {
   "cell_type": "code",
   "execution_count": null,
   "id": "2dce806a-35dc-4a30-9196-6a07c0ad59fb",
   "metadata": {},
   "outputs": [],
   "source": [
    "blessing_uri = evaluator.outputs['blessing'].get()[0].uri\n",
    "!ls -l {blessing_uri}"
   ]
  },
  {
   "cell_type": "markdown",
   "id": "4b20e3e9-a6d8-4ab4-8035-7aaa8195fe81",
   "metadata": {},
   "source": [
    "Now can also verify the success by loading the validation result record:"
   ]
  },
  {
   "cell_type": "code",
   "execution_count": null,
   "id": "77669a89-299d-4532-b82e-d30c90c06351",
   "metadata": {},
   "outputs": [],
   "source": [
    "PATH_TO_RESULT = evaluator.outputs['evaluation'].get()[0].uri\n",
    "print(tfma.load_validation_result(PATH_TO_RESULT))"
   ]
  },
  {
   "cell_type": "markdown",
   "id": "9b93d586-58e7-49f8-b2bf-87bdc23dd66c",
   "metadata": {},
   "source": [
    "# Pusher\n",
    "\n",
    "The `Pusher` component is usually at the end of a TFX pipeline. It checks whether a model has passed validation, and if so, exports the model to `_serving_model_dir`."
   ]
  },
  {
   "cell_type": "code",
   "execution_count": null,
   "id": "84810ed9-08cd-42d0-8b4e-1ee53207c4a1",
   "metadata": {},
   "outputs": [],
   "source": [
    "pusher = tfx.components.Pusher(\n",
    "    model=trainer.outputs['model'],\n",
    "    model_blessing=evaluator.outputs['blessing'],\n",
    "    push_destination=tfx.proto.PushDestination(\n",
    "        filesystem=tfx.proto.PushDestination.Filesystem(\n",
    "            base_directory=_serving_model_dir)))\n",
    "context.run(pusher, enable_cache=True)"
   ]
  },
  {
   "cell_type": "markdown",
   "id": "498b3e70-db64-4140-a9e4-d3c35af7180e",
   "metadata": {},
   "source": [
    "Let's examine the output artifacts of `Pusher`."
   ]
  },
  {
   "cell_type": "code",
   "execution_count": null,
   "id": "e5dcb50f-6257-4f74-a96b-11490f2a4c92",
   "metadata": {},
   "outputs": [],
   "source": [
    "pusher.outputs"
   ]
  },
  {
   "cell_type": "markdown",
   "id": "b6b38d63-5aac-4450-985b-007b95ae0397",
   "metadata": {},
   "source": [
    "In particular, the Pusher will export your model in the SavedModel format, which looks like this:"
   ]
  },
  {
   "cell_type": "code",
   "execution_count": null,
   "id": "55fb7b2d-e5ed-4e02-ab44-21cee26f5295",
   "metadata": {},
   "outputs": [],
   "source": [
    "push_uri = pusher.outputs['pushed_model'].get()[0].uri\n",
    "model = tf.saved_model.load(push_uri)\n",
    "\n",
    "for item in model.signatures.items():\n",
    "  pp.pprint(item)"
   ]
  },
  {
   "cell_type": "code",
   "execution_count": null,
   "id": "79cb1489-c824-4c09-ba8c-2b5334b2600b",
   "metadata": {},
   "outputs": [],
   "source": []
  }
 ],
 "metadata": {
  "kernelspec": {
   "display_name": "Python 3 (ipykernel)",
   "language": "python",
   "name": "python3"
  },
  "language_info": {
   "codemirror_mode": {
    "name": "ipython",
    "version": 3
   },
   "file_extension": ".py",
   "mimetype": "text/x-python",
   "name": "python",
   "nbconvert_exporter": "python",
   "pygments_lexer": "ipython3",
   "version": "3.8.8"
  }
 },
 "nbformat": 4,
 "nbformat_minor": 5
}
