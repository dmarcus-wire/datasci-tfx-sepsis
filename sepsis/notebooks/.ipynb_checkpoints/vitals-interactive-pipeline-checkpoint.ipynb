{
 "cells": [
  {
   "cell_type": "markdown",
   "id": "ccf2651d-31a4-442f-baf1-28d3822b8b5f",
   "metadata": {},
   "source": [
    "Based on TFX Keras Component Tuturial, altered for Sepsis prediction. https://www.tensorflow.org/tfx/tutorials/tfx/components_keras#setup"
   ]
  },
  {
   "cell_type": "markdown",
   "id": "fe90d631-2d52-4363-aeb6-0d0fb4e2867c",
   "metadata": {},
   "source": [
    "# Background\n",
    "\n",
    "This notebook demonstrates how to use TFX in Jupyter on Red Hat OpenShift using Open Data Hub.\n",
    "\n",
    "The ineractive notebook introduces slights differences in an actual pipeline, like orchestration and metadata artifacts."
   ]
  },
  {
   "cell_type": "markdown",
   "id": "362645c2-6772-427d-9e72-6dfbea8445b3",
   "metadata": {},
   "source": [
    "# Orchestration\n",
    "\n",
    "In production, you use an orchestrator (Apache Airflow, Kubeflow Pipelines, Argo, etc.) to orchestrate pre-defined pipeline graph of TFX components.\n",
    "\n",
    "In a notebook, the notebook is the orchestrator."
   ]
  },
  {
   "cell_type": "markdown",
   "id": "becf7cfa-32ab-4c23-947b-f4d94bca6c46",
   "metadata": {},
   "source": [
    "# Metadata\n",
    "\n",
    "In production, you access metadata through an API, like TFX ML Metadata \"MLMD\" API.\n",
    "\n",
    "In production, MLMD stores metadata in a database like MySQL or SQLite.\n",
    "\n",
    "In a notebook, payloads are stored in an ephemeral SQLite database under /tmp on the Jupyter server."
   ]
  },
  {
   "cell_type": "markdown",
   "id": "74b54aa7-9459-4a84-8f6c-67e180410d74",
   "metadata": {},
   "source": [
    "# Setup"
   ]
  },
  {
   "cell_type": "code",
   "execution_count": 3,
   "id": "4d9457f0-79f1-4176-9303-ea0b78109229",
   "metadata": {},
   "outputs": [],
   "source": [
    "# quietly upgrade pip\n",
    "!pip install --upgrade pip -q\n",
    "\n",
    "# install tfx as user\n",
    "!pip install -Uq tfx"
   ]
  },
  {
   "cell_type": "code",
   "execution_count": 4,
   "id": "dd722a43-5102-49d5-a9da-355286c49de2",
   "metadata": {},
   "outputs": [],
   "source": [
    "# import packages\n",
    "import os\n",
    "import pprint\n",
    "import tempfile\n",
    "import urllib\n",
    "\n",
    "import absl\n",
    "import tensorflow as tf\n",
    "import tensorflow_model_analysis as tfma\n",
    "tf.get_logger().propagate = False\n",
    "pp = pprint.PrettyPrinter()\n",
    "\n",
    "from tfx import v1 as tfx\n",
    "from tfx.orchestration.experimental.interactive.interactive_context import InteractiveContext"
   ]
  },
  {
   "cell_type": "code",
   "execution_count": 5,
   "id": "bb21cbc8-7481-4291-ba71-6e882df77c03",
   "metadata": {},
   "outputs": [
    {
     "name": "stdout",
     "output_type": "stream",
     "text": [
      "TensorFlow version: 2.7.1\n",
      "TFX version: 1.6.1\n"
     ]
    }
   ],
   "source": [
    "# check versions installed\n",
    "print('TensorFlow version: {}'.format(tf.__version__))\n",
    "print('TFX version: {}'.format(tfx.__version__))"
   ]
  },
  {
   "cell_type": "markdown",
   "id": "69d99c36-9477-4dda-be71-5c7572840e3d",
   "metadata": {},
   "source": [
    "# Set up the pipeline paths"
   ]
  },
  {
   "cell_type": "code",
   "execution_count": 9,
   "id": "aa2030fd-dd5b-4d82-89bb-2887d7aa7a22",
   "metadata": {},
   "outputs": [
    {
     "name": "stdout",
     "output_type": "stream",
     "text": [
      "total 6516\n",
      "-rw-r--r--. 1 1000640000 1000640000    3032 Mar  9 00:41 attribute_definitions.csv\n",
      "-rw-r--r--. 1 1000640000 1000640000 1112373 Mar  9 00:41 pat_demog_labeled-dataSepsis.csv\n",
      "-rw-r--r--. 1 1000640000 1000640000 4126250 Mar  9 00:41 pat_labs_labeled-dataSepsis.csv\n",
      "-rw-r--r--. 1 1000640000 1000640000 1422189 Mar  9 00:41 pat_vitals_labeled-dataSepsis.csv\n"
     ]
    }
   ],
   "source": [
    "# check the relative path to the data\n",
    "!ls -l ../../data/dataSepsis/csv_format"
   ]
  },
  {
   "cell_type": "code",
   "execution_count": 15,
   "id": "dd389c58-8c2f-42cc-8433-d21e0f30d09d",
   "metadata": {},
   "outputs": [],
   "source": [
    "# This is the root directory for your TFX pip package installation.\n",
    "_tfx_root = tfx.__path__[0]\n",
    "\n",
    "# This is the directory containing the TFX Sepsis Pipeline example.\n",
    "_taxi_root = os.path.join(_tfx_root, '../pipeline/sepsis_vitals')\n",
    "\n",
    "# This is the path where your model will be pushed for serving.\n",
    "_serving_model_dir = os.path.join(\n",
    "    tempfile.mkdtemp(), '../models/sepsis_vitals')\n",
    "\n",
    "# Set up logging.\n",
    "absl.logging.set_verbosity(absl.logging.INFO)"
   ]
  },
  {
   "cell_type": "code",
   "execution_count": 16,
   "id": "d75b7801-41b7-417b-bd61-b6d52e68467b",
   "metadata": {},
   "outputs": [
    {
     "data": {
      "text/plain": [
       "('/tmp/sepsis-data_g0aiu2c/pat_vitals_labeled-dataSepsis.csv',\n",
       " <http.client.HTTPMessage at 0x7fbd1b610e20>)"
      ]
     },
     "execution_count": 16,
     "metadata": {},
     "output_type": "execute_result"
    }
   ],
   "source": [
    "# defines the temporary directory for the sepsis vitals data\n",
    "_data_root = tempfile.mkdtemp(prefix='sepsis-data')\n",
    "# defines the github path where the data exists, even though it is also cloned in\n",
    "DATA_PATH = 'https://raw.githubusercontent.com/redhat-naps-da/mlops-prototype/main/data/dataSepsis/csv_format/pat_vitals_labeled-dataSepsis.csv'\n",
    "# defines the full local temporary path\n",
    "_data_filepath = os.path.join(_data_root, \"pat_vitals_labeled-dataSepsis.csv\")\n",
    "# pulls the data into the newly created temporary filepath\n",
    "urllib.request.urlretrieve(DATA_PATH, _data_filepath)"
   ]
  },
  {
   "cell_type": "code",
   "execution_count": 17,
   "id": "379936a3-9eb4-4e6e-96c0-3b2fcddbf340",
   "metadata": {},
   "outputs": [
    {
     "name": "stdout",
     "output_type": "stream",
     "text": [
      "patient_id,record_date,record_time,HR,O2Sat,Temp,SBP,MAP,DBP,Resp,EtCO2,isSepsis\n",
      "1,,,63,90,40.3,NaN,NaN,NaN,17,NaN,0\n",
      "2,,,79,95,39.2,143,77,47,13,NaN,0\n",
      "3,,,87,94,40.3,133,74,48,20,NaN,0\n",
      "4,,,71,100,42.1,NaN,NaN,NaN,15,NaN,0\n",
      "5,,,68,94.5,39.7,147.5,102,NaN,20,NaN,0\n",
      "6,,,78,99,39.6,100,67,49.5,18,NaN,0\n",
      "7,,,242,NaN,39.30,NaN,NaN,NaN,33,NaN,1\n",
      "8,,,81,100,40.3,112,79.5,63,18,NaN,0\n",
      "9,,,178,100,39.22,141,85,57,22,NaN,1\n"
     ]
    }
   ],
   "source": [
    "# view the first 10 lines of the data\n",
    "!head {_data_filepath}"
   ]
  },
  {
   "cell_type": "code",
   "execution_count": null,
   "id": "cff4b7e1-b017-4d00-a8a2-70aa05d4c6fb",
   "metadata": {},
   "outputs": [],
   "source": []
  }
 ],
 "metadata": {
  "kernelspec": {
   "display_name": "Python 3",
   "language": "python",
   "name": "python3"
  },
  "language_info": {
   "codemirror_mode": {
    "name": "ipython",
    "version": 3
   },
   "file_extension": ".py",
   "mimetype": "text/x-python",
   "name": "python",
   "nbconvert_exporter": "python",
   "pygments_lexer": "ipython3",
   "version": "3.8.6"
  }
 },
 "nbformat": 4,
 "nbformat_minor": 5
}
