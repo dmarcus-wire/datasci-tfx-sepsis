{
 "cells": [
  {
   "cell_type": "markdown",
   "id": "bfab2e21-72df-4416-a972-7adede9f6597",
   "metadata": {},
   "source": [
    "Import Packages"
   ]
  },
  {
   "cell_type": "code",
   "execution_count": 1,
   "id": "d63375a5-2f14-450e-be20-8daf39e512a3",
   "metadata": {},
   "outputs": [
    {
     "name": "stderr",
     "output_type": "stream",
     "text": [
      "/opt/app-root/lib64/python3.8/site-packages/xgboost/compat.py:36: FutureWarning: pandas.Int64Index is deprecated and will be removed from pandas in a future version. Use pandas.Index with the appropriate dtype instead.\n",
      "  from pandas import MultiIndex, Int64Index\n"
     ]
    }
   ],
   "source": [
    "# load data\n",
    "import matplotlib.pyplot\n",
    "\n",
    "# Add directory above current directory to path\n",
    "import sys; sys.path.insert(0, '..')\n",
    "#from submodules.load_data import load_data\n",
    "\n",
    "# data manipulation\n",
    "import pandas as pd\n",
    "\n",
    "# data splitting\n",
    "from sklearn.model_selection import train_test_split\n",
    "\n",
    "# data preprocessing\n",
    "from sklearn.pipeline import Pipeline\n",
    "from sklearn.impute import SimpleImputer\n",
    "from sklearn.preprocessing import StandardScaler\n",
    "from sklearn.preprocessing import MinMaxScaler\n",
    "\n",
    "# model\n",
    "from sklearn import svm\n",
    "from sklearn.neighbors import KNeighborsClassifier\n",
    "from sklearn.ensemble import RandomForestClassifier\n",
    "from sklearn.linear_model import LogisticRegression\n",
    "from sklearn.linear_model import SGDClassifier\n",
    "from sklearn.neural_network import MLPClassifier\n",
    "from sklearn.naive_bayes import GaussianNB\n",
    "from xgboost import XGBClassifier\n",
    "\n",
    "# hyperparameter tuning\n",
    "from sklearn.model_selection import GridSearchCV\n",
    "\n",
    "# k-fold cross validation\n",
    "from sklearn.model_selection import cross_validate\n",
    "\n",
    "# serializing, compressing, and loading the models\n",
    "import joblib\n",
    "\n",
    "# performance\n",
    "from sklearn.metrics import plot_confusion_matrix\n",
    "from sklearn.metrics import plot_precision_recall_curve\n",
    "import matplotlib.pyplot as plt\n",
    "\n",
    "# displaying plots\n",
    "from IPython import display\n",
    "import matplotlib.image as mpimg\n",
    "import glob\n",
    "from skimage.util import montage\n",
    "import numpy as np"
   ]
  },
  {
   "cell_type": "markdown",
   "id": "2de1110b-b7b6-4104-95fb-34eeb4bf5c63",
   "metadata": {},
   "source": [
    "Load the data"
   ]
  },
  {
   "cell_type": "code",
   "execution_count": 3,
   "id": "b999823b-1f49-480b-9272-c77ca6088a5a",
   "metadata": {},
   "outputs": [],
   "source": [
    "# load the data using a python function\n",
    "#data = load_data()\n",
    "\n",
    "# without using a python function\n",
    "# set for the Patient Vital Signs\n",
    "csv_path = \"../../data/dataSepsis/csv_format/pat_vitals_labeled-dataSepsis.csv\"\n",
    "data = pd.read_csv(csv_path, sep=\",\")"
   ]
  },
  {
   "cell_type": "markdown",
   "id": "aaeb679b-4785-4cb6-945f-c547341a5881",
   "metadata": {},
   "source": [
    "Split the Dataset"
   ]
  },
  {
   "cell_type": "code",
   "execution_count": 9,
   "id": "87794c72-17bc-47bc-bd1e-5fdbc4e059c9",
   "metadata": {},
   "outputs": [],
   "source": [
    "# sets 10%/15%/20% of the data aside for testing, sets the random number generate to it always generates the same shuffled indicies\n",
    "# x = 2 dimensional array with inputs\n",
    "# X_train is the training part of the first sequence (x)\n",
    "# X_test is the test part of the first sequence (x)\n",
    "# y = 1 dimensional array with outputs\n",
    "# y_train is the labeled training part of the second sequence\n",
    "# y_test is the labeled test part of the second sequence\n",
    "# axis Whether to drop labels from the index (0 or ‘index’) or columns (1 or ‘columns’)\n",
    "# test_size is the amount of the total dataset to set aside for testing = 10%\n",
    "# random state fixes the randomization so you get the same results each time\n",
    "# Shuffle before the data is split, it is shuffled\n",
    "# stratified splitting keeps the proportion of y values trhough the train and test sets\n",
    "X_train, X_test, y_train, y_test = \\\n",
    "    train_test_split(data.drop([\"patient_id\",\"record_date\",\"record_time\",\"EtCO2\", \"isSepsis\"], axis=1),\n",
    "    data[\"isSepsis\"], test_size=0.20,\n",
    "    random_state=42, stratify=data[\"isSepsis\"])"
   ]
  },
  {
   "cell_type": "markdown",
   "id": "bf28cc8e-624c-4553-8e23-b6c7ebb185d4",
   "metadata": {},
   "source": [
    "Clean the data\n",
    "1. Transform missing values\n",
    "    - impute mean, median or other calculation for missing attributes\n",
    "1. Scale the data\n",
    "    - ML algorithms don't work well when numeric attributes have very different scales (e.g. HR max 184, pH max 7.67)\n",
    "    - normalization (MinMaxScaler) bounds the values to a specific range (e.g. 0-1)\n",
    "    - standardization (StandardScaler) less affected by outliers does not bound to range\n",
    "\n",
    "Instead of preparing data manually, write functions to:\n",
    "\n",
    "1. reproduce transformations easily on any dataset (e.g., data refresh)\n",
    "1. builds a library of functions to reuse in future projects\n",
    "1. use functions in live stream to transform new data before inferencing"
   ]
  },
  {
   "cell_type": "code",
   "execution_count": 12,
   "id": "a0e2c71e-12ea-4921-8ec4-c49cfe33b884",
   "metadata": {},
   "outputs": [
    {
     "data": {
      "text/plain": [
       "array([[ 61.  ,  98.5 ,  36.9 , ...,  73.  ,  63.  ,  19.  ],\n",
       "       [ 76.  ,  98.  ,  36.2 , ...,  86.33,  62.  ,  24.  ],\n",
       "       [ 75.  ,  99.  ,  36.3 , ...,  70.  ,  62.  ,  16.  ],\n",
       "       ...,\n",
       "       [ 83.  ,  95.  ,  38.2 , ...,  66.  ,  48.  ,  18.  ],\n",
       "       [ 75.  , 100.  ,  38.2 , ...,  74.  ,  56.  ,  13.  ],\n",
       "       [ 87.  , 100.  ,  37.8 , ...,  59.33,  62.  ,  26.  ]])"
      ]
     },
     "execution_count": 12,
     "metadata": {},
     "output_type": "execute_result"
    }
   ],
   "source": [
    "# impute median for missing attributes\n",
    "# create simpleimputer instance\n",
    "# replace attributes missing values with median of the attribute\n",
    "imputer = SimpleImputer(strategy=\"median\")\n",
    "\n",
    "# fit applies the imputer to ALL numeric data in case new data includes null values\n",
    "# when system goes live\n",
    "# results are stored in a imputer.statistics_ value\n",
    "imputer.fit_transform(X_train)"
   ]
  },
  {
   "cell_type": "code",
   "execution_count": 13,
   "id": "5f44540c-594e-407b-a539-e21ee7470880",
   "metadata": {},
   "outputs": [
    {
     "data": {
      "text/html": [
       "<div>\n",
       "<style scoped>\n",
       "    .dataframe tbody tr th:only-of-type {\n",
       "        vertical-align: middle;\n",
       "    }\n",
       "\n",
       "    .dataframe tbody tr th {\n",
       "        vertical-align: top;\n",
       "    }\n",
       "\n",
       "    .dataframe thead th {\n",
       "        text-align: right;\n",
       "    }\n",
       "</style>\n",
       "<table border=\"1\" class=\"dataframe\">\n",
       "  <thead>\n",
       "    <tr style=\"text-align: right;\">\n",
       "      <th></th>\n",
       "      <th>HR</th>\n",
       "      <th>O2Sat</th>\n",
       "      <th>Temp</th>\n",
       "      <th>SBP</th>\n",
       "      <th>MAP</th>\n",
       "      <th>DBP</th>\n",
       "      <th>Resp</th>\n",
       "    </tr>\n",
       "  </thead>\n",
       "  <tbody>\n",
       "    <tr>\n",
       "      <th>26908</th>\n",
       "      <td>61.0</td>\n",
       "      <td>98.5</td>\n",
       "      <td>36.9</td>\n",
       "      <td>108.0</td>\n",
       "      <td>73.00</td>\n",
       "      <td>63.0</td>\n",
       "      <td>19.0</td>\n",
       "    </tr>\n",
       "    <tr>\n",
       "      <th>5174</th>\n",
       "      <td>76.0</td>\n",
       "      <td>98.0</td>\n",
       "      <td>36.2</td>\n",
       "      <td>145.0</td>\n",
       "      <td>86.33</td>\n",
       "      <td>62.0</td>\n",
       "      <td>24.0</td>\n",
       "    </tr>\n",
       "    <tr>\n",
       "      <th>15997</th>\n",
       "      <td>75.0</td>\n",
       "      <td>99.0</td>\n",
       "      <td>36.3</td>\n",
       "      <td>96.0</td>\n",
       "      <td>70.00</td>\n",
       "      <td>62.0</td>\n",
       "      <td>16.0</td>\n",
       "    </tr>\n",
       "    <tr>\n",
       "      <th>13058</th>\n",
       "      <td>72.0</td>\n",
       "      <td>100.0</td>\n",
       "      <td>36.1</td>\n",
       "      <td>102.0</td>\n",
       "      <td>64.00</td>\n",
       "      <td>49.0</td>\n",
       "      <td>18.0</td>\n",
       "    </tr>\n",
       "    <tr>\n",
       "      <th>23132</th>\n",
       "      <td>79.0</td>\n",
       "      <td>95.0</td>\n",
       "      <td>38.3</td>\n",
       "      <td>119.0</td>\n",
       "      <td>92.00</td>\n",
       "      <td>80.0</td>\n",
       "      <td>13.0</td>\n",
       "    </tr>\n",
       "  </tbody>\n",
       "</table>\n",
       "</div>"
      ],
      "text/plain": [
       "         HR  O2Sat  Temp    SBP    MAP   DBP  Resp\n",
       "26908  61.0   98.5  36.9  108.0  73.00  63.0  19.0\n",
       "5174   76.0   98.0  36.2  145.0  86.33  62.0  24.0\n",
       "15997  75.0   99.0  36.3   96.0  70.00  62.0  16.0\n",
       "13058  72.0  100.0  36.1  102.0  64.00  49.0  18.0\n",
       "23132  79.0   95.0  38.3  119.0  92.00  80.0  13.0"
      ]
     },
     "execution_count": 13,
     "metadata": {},
     "output_type": "execute_result"
    }
   ],
   "source": [
    "# apply the trained imputer to transform the training set replacing the\n",
    "# missing values with learn medians\n",
    "N = imputer.transform(X_train)\n",
    "# result above is plain NumPy array with transformed features\n",
    "# put back to a pandas DataFrame\n",
    "M = pd.DataFrame(N, columns=X_train.columns, index=X_train.index)\n",
    "M.head()"
   ]
  },
  {
   "cell_type": "code",
   "execution_count": 15,
   "id": "867903ea-52ae-41a7-a6ed-484ca8310a20",
   "metadata": {},
   "outputs": [
    {
     "data": {
      "text/html": [
       "<div>\n",
       "<style scoped>\n",
       "    .dataframe tbody tr th:only-of-type {\n",
       "        vertical-align: middle;\n",
       "    }\n",
       "\n",
       "    .dataframe tbody tr th {\n",
       "        vertical-align: top;\n",
       "    }\n",
       "\n",
       "    .dataframe thead th {\n",
       "        text-align: right;\n",
       "    }\n",
       "</style>\n",
       "<table border=\"1\" class=\"dataframe\">\n",
       "  <thead>\n",
       "    <tr style=\"text-align: right;\">\n",
       "      <th></th>\n",
       "      <th>HR</th>\n",
       "      <th>O2Sat</th>\n",
       "      <th>Temp</th>\n",
       "      <th>SBP</th>\n",
       "      <th>MAP</th>\n",
       "      <th>DBP</th>\n",
       "      <th>Resp</th>\n",
       "    </tr>\n",
       "  </thead>\n",
       "  <tbody>\n",
       "    <tr>\n",
       "      <th>26908</th>\n",
       "      <td>-0.740025</td>\n",
       "      <td>0.374434</td>\n",
       "      <td>-0.400639</td>\n",
       "      <td>-0.641028</td>\n",
       "      <td>-0.551583</td>\n",
       "      <td>-0.028341</td>\n",
       "      <td>0.190379</td>\n",
       "    </tr>\n",
       "    <tr>\n",
       "      <th>5174</th>\n",
       "      <td>-0.176140</td>\n",
       "      <td>0.192386</td>\n",
       "      <td>-0.934153</td>\n",
       "      <td>0.998721</td>\n",
       "      <td>0.252568</td>\n",
       "      <td>-0.109121</td>\n",
       "      <td>1.157798</td>\n",
       "    </tr>\n",
       "    <tr>\n",
       "      <th>15997</th>\n",
       "      <td>-0.213733</td>\n",
       "      <td>0.556483</td>\n",
       "      <td>-0.857937</td>\n",
       "      <td>-1.172838</td>\n",
       "      <td>-0.732562</td>\n",
       "      <td>-0.109121</td>\n",
       "      <td>-0.390072</td>\n",
       "    </tr>\n",
       "    <tr>\n",
       "      <th>13058</th>\n",
       "      <td>-0.326510</td>\n",
       "      <td>0.920580</td>\n",
       "      <td>-1.010369</td>\n",
       "      <td>-0.906933</td>\n",
       "      <td>-1.094521</td>\n",
       "      <td>-1.159260</td>\n",
       "      <td>-0.003105</td>\n",
       "    </tr>\n",
       "    <tr>\n",
       "      <th>23132</th>\n",
       "      <td>-0.063364</td>\n",
       "      <td>-0.899906</td>\n",
       "      <td>0.666390</td>\n",
       "      <td>-0.153535</td>\n",
       "      <td>0.594619</td>\n",
       "      <td>1.344918</td>\n",
       "      <td>-0.970524</td>\n",
       "    </tr>\n",
       "  </tbody>\n",
       "</table>\n",
       "</div>"
      ],
      "text/plain": [
       "             HR     O2Sat      Temp       SBP       MAP       DBP      Resp\n",
       "26908 -0.740025  0.374434 -0.400639 -0.641028 -0.551583 -0.028341  0.190379\n",
       "5174  -0.176140  0.192386 -0.934153  0.998721  0.252568 -0.109121  1.157798\n",
       "15997 -0.213733  0.556483 -0.857937 -1.172838 -0.732562 -0.109121 -0.390072\n",
       "13058 -0.326510  0.920580 -1.010369 -0.906933 -1.094521 -1.159260 -0.003105\n",
       "23132 -0.063364 -0.899906  0.666390 -0.153535  0.594619  1.344918 -0.970524"
      ]
     },
     "execution_count": 15,
     "metadata": {},
     "output_type": "execute_result"
    }
   ],
   "source": [
    "# normalization (MinMaxScaler) bounds the values to a specific range (e.g. 0-1)\n",
    "#standardization (StandardScaler) less affected by outliers does not bound to range\n",
    "scaler = StandardScaler()\n",
    "\n",
    "O = scaler.fit_transform(N)\n",
    "P = pd.DataFrame(O, columns=X_train.columns, index=X_train.index)\n",
    "P.head()"
   ]
  },
  {
   "cell_type": "markdown",
   "id": "a98c34e5-68b6-4a45-af31-5abf762704a8",
   "metadata": {},
   "source": [
    "Create the pipeline\n",
    "- Common to apply many transformation steps in a specific order (fill the nulls before you apply the scaling)"
   ]
  },
  {
   "cell_type": "code",
   "execution_count": 18,
   "id": "f68f1fe6-1916-4d1e-84e1-632d73c68a86",
   "metadata": {},
   "outputs": [],
   "source": [
    "# this pipeline should work for all the estimators/algorithms\n",
    "pipeline = Pipeline([\n",
    "                    ('imputer', SimpleImputer(strategy='median')),\n",
    "                    ('std_scaler', StandardScaler()),\n",
    "                    ])\n",
    "# this is the transformed data to train from\n",
    "X_train_prepared = pipeline.fit_transform(X_train)"
   ]
  },
  {
   "cell_type": "code",
   "execution_count": 19,
   "id": "053b9f15-f8ca-480f-9693-5faf7557ce6a",
   "metadata": {},
   "outputs": [],
   "source": [
    "# neural networks sometimes expect a 0-1 normalized scale and perform better\n",
    "pipeline_minmax = Pipeline([\n",
    "                    ('imputer', SimpleImputer(strategy='median')),\n",
    "                    ('minMax', MinMaxScaler()),\n",
    "                    ])\n",
    "# this is the transformed data to train the MLP from\n",
    "X_train_prepared_m = pipeline_minmax.fit_transform(X_train)"
   ]
  },
  {
   "cell_type": "code",
   "execution_count": null,
   "id": "66ab9446-32e4-40b7-a8b2-892d2f3f54b9",
   "metadata": {},
   "outputs": [],
   "source": [
    "# compress and save the pipeline\n",
    "joblib.dump(pipeline, \"../data/transform/pipeline.pkl\")\n",
    "joblib.dump(pipeline_minmax, \"../data/transform/pipeline_minmax.pkl\")"
   ]
  },
  {
   "cell_type": "code",
   "execution_count": null,
   "id": "f3f1c8df-eb90-4743-9f8a-a5fbc4040973",
   "metadata": {},
   "outputs": [],
   "source": []
  }
 ],
 "metadata": {
  "kernelspec": {
   "display_name": "Python 3 (ipykernel)",
   "language": "python",
   "name": "python3"
  },
  "language_info": {
   "codemirror_mode": {
    "name": "ipython",
    "version": 3
   },
   "file_extension": ".py",
   "mimetype": "text/x-python",
   "name": "python",
   "nbconvert_exporter": "python",
   "pygments_lexer": "ipython3",
   "version": "3.8.8"
  }
 },
 "nbformat": 4,
 "nbformat_minor": 5
}
