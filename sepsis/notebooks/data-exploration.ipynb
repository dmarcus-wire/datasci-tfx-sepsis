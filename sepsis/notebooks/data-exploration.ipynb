{
 "cells": [
  {
   "cell_type": "markdown",
   "id": "08dde0d1-23db-431a-9195-625ea768e5e7",
   "metadata": {},
   "source": [
    "Overview of the problem to solve with this model\n",
    "- Intially train a simple model off few features utilizing a training pipeline to predict patients who 1) are septic or 2) at-risk of becoming septic\n",
    "- Develop heuristics to filter out patients who are septic to avoid costs for model inferencing\n",
    "- Train more complex models to infer patients at-risk of becoming septic based on more complex data sources and features"
   ]
  },
  {
   "cell_type": "markdown",
   "id": "ce79a438-0ad7-4029-b292-a28970bcb7ed",
   "metadata": {},
   "source": [
    "Overview of Sepsis Indicators:\n",
    "\n",
    "**bold indicates availability from our data**\n",
    "\n",
    "Sepsis - Systemic inflammatory response syndrome (SIRS) 2 or more are met:\n",
    "1. **Body temperature > 38.5°C or < 35.0°C**\n",
    "1. **Heart rate > 90 beats per minute**\n",
    "1. **Respiratory rate > 20 breaths per minute or arterial CO2 tension < 32 mm Hg or need for mechanical ventilation**\n",
    "1. **White blood cell count > 12,000/mm3 or < 4,000/mm3 or immature forms > 10%**\n",
    "\n",
    "Severe sepsis - Sepsis and at least one sign of organ hypoperfusion or organ dysfunction:\n",
    "1. Areas of mottled skin\n",
    "1. Capillary refilling time ≥ 3 s\n",
    "1. Urinary output < 0.5 mL/kg for at least 1 h or renal replacement therapy\n",
    "1. **Lactates > 2 mmol/L**\n",
    "1. Abrupt change in mental status or abnormal electroencephalogram\n",
    "1. **Platelet counts < 100,000/mL or disseminated intravascular coagulation**\n",
    "1. Acute lung injury—acute respiratory distress syndrome\n",
    "1. Cardiac dysfunction (echocardiography) \n",
    "\n",
    "Septic shock - Severe sepsis and one of:\n",
    "1. Systemic mean blood pressure of < 60 mm Hg (< 80 mm Hg if previous hypertension) after 20–30 mL/kg starch or 40–60 mL/kg serum saline, or pulmonary capillary wedge pressure between 12 and 20 mm Hg\n",
    "1. Need for dopamine > 5 μg/kg per min or norepinephrine or epinephrine < 0.25 μg/kg per min to maintain mean blood pressure above 60 mm Hg (> 80 mm Hg if previous hypertension) ### Refractory septic shock\n",
    "1. Need for dopamine > 15 μg/kg per min or norepinephrine or epinephrine > 0.25 μg/kg per min to maintain mean blood pressure above 60 mm Hg (> 80 mm Hg if previous hypertension)"
   ]
  },
  {
   "cell_type": "markdown",
   "id": "b3841005-7944-4796-a8f2-be5da2bcf4a4",
   "metadata": {},
   "source": [
    "Overview of this projects current goal for the Data Engineering\n",
    "- use only the Patient Vital signs (pat_vitals_labeled-dataSepsis.csv) to indentify predictive signals (columns) \n",
    "- generate a data preprocessing pipeline for feeding data to the model"
   ]
  },
  {
   "cell_type": "markdown",
   "id": "4aa7ba0a-9589-4ca7-b8b9-68aecb6e2f57",
   "metadata": {},
   "source": [
    "Overview of the data for this project\n",
    "- Data was originally based on a Kaggle project https://www.kaggle.com/maxskoryk/datasepsishttps://www.kaggle.com/maxskoryk/datasepsis\n",
    "- Major changes were made due to the data bias for demographics influencing sepsis indicator AND the sepsis indicators were not accurate\n",
    "- Patient ID, record date and record time were added \n",
    "- HR, Temp and RR were generated to accurately reflect values and patient percentage representation in the believed real world\n",
    "- Data was split into 3 separate labeled data files\n",
    "    - Patient Demographics (pat_demog_labeled_dataSepsis.csv)\n",
    "    - Patient Laboratory Values (pat_labs_labeled_dataSepsis.csv)\n",
    "    - Patient Vital Signs (pat_vitals_labeled_dataSepsis.csv)"
   ]
  },
  {
   "cell_type": "markdown",
   "id": "16c750b9-ee3f-45ea-8545-fdc0c1d4fc7a",
   "metadata": {},
   "source": [
    "Overview of steps in the notebook Overview of steps in the notebook\n",
    "- Fetch and write the data for updates using urllib, zipfile, and os for OS agnostic handling\n",
    "- Load the data as a Dataframe using Pandas\n",
    "- Explore the Dataframe with Pandas\n",
    "- Split the data into train and test sets with Scikit-Learn\n",
    "- Visualize the train data with Matplotlib and Seaborn\n",
    "- Explore correlation among features\n",
    "- Feature down selection"
   ]
  },
  {
   "cell_type": "markdown",
   "id": "3d35987a-a02e-4285-8010-c38ba96514ad",
   "metadata": {},
   "source": [
    "Import Packages"
   ]
  },
  {
   "cell_type": "code",
   "execution_count": 1,
   "id": "f03e98bb-54b0-4ff4-90f2-cce4ca91a76e",
   "metadata": {},
   "outputs": [],
   "source": [
    "# data ingestion\n",
    "import urllib.request\n",
    "import os\n",
    "import zipfile\n",
    "\n",
    "# data manipulation\n",
    "import pandas as pd\n",
    "import numpy as np\n",
    "\n",
    "# data visualization\n",
    "import seaborn as sns\n",
    "import matplotlib.pyplot as plt\n",
    "# Add directory above current directory to path\n",
    "import sys; sys.path.insert(0, '..')\n",
    "\n",
    "# possible removeable of submodules\n",
    "#from submodules.fetch_data import fetch_data\n",
    "#from submodules.load_data import load_data\n",
    "\n",
    "from pandas.plotting import scatter_matrix\n",
    "from IPython.display import Image\n",
    "\n",
    "\n",
    "# data splitting\n",
    "from sklearn.model_selection import train_test_split"
   ]
  },
  {
   "cell_type": "markdown",
   "id": "6a5bf382-afa2-47a5-999f-2f17031d2475",
   "metadata": {},
   "source": [
    "Fetch the data"
   ]
  },
  {
   "cell_type": "code",
   "execution_count": 2,
   "id": "ca579ab8-7877-46c7-a379-7beff51a2586",
   "metadata": {},
   "outputs": [],
   "source": [
    "# fetch the data using a python function, commented out b/c cannot use with Kaggle source\n",
    "#fetch_data()"
   ]
  },
  {
   "cell_type": "markdown",
   "id": "4a4ee587-b869-4b49-9acb-55733554969c",
   "metadata": {},
   "source": [
    "Load the data"
   ]
  },
  {
   "cell_type": "code",
   "execution_count": 3,
   "id": "cf2c1a0f-46ac-4644-94a8-c8d0904a3944",
   "metadata": {},
   "outputs": [],
   "source": [
    "# load the data using a python function\n",
    "#data = load_data()\n",
    "\n",
    "# without using a python function\n",
    "# set for the Signal definitions\n",
    "attr_path = \"../../data/dataSepsis/csv_format/attribute_definitions.csv\"\n",
    "attr = pd.read_csv(attr_path, sep=\",\")\n",
    "# set for the Patient Vital Signs\n",
    "csv_path = \"../../data/dataSepsis/csv_format/pat_vitals_labeled-dataSepsis.csv\"\n",
    "data = pd.read_csv(csv_path, sep=\",\")"
   ]
  },
  {
   "cell_type": "markdown",
   "id": "48cc4203-16eb-4c06-828e-e88e1d3c8038",
   "metadata": {},
   "source": [
    "Review of Signal Definitions available from the data source"
   ]
  },
  {
   "cell_type": "code",
   "execution_count": 4,
   "id": "3e74f580-99e9-4c95-b1ca-6f7727aea7c4",
   "metadata": {},
   "outputs": [
    {
     "data": {
      "text/html": [
       "<div>\n",
       "<style scoped>\n",
       "    .dataframe tbody tr th:only-of-type {\n",
       "        vertical-align: middle;\n",
       "    }\n",
       "\n",
       "    .dataframe tbody tr th {\n",
       "        vertical-align: top;\n",
       "    }\n",
       "\n",
       "    .dataframe thead th {\n",
       "        text-align: right;\n",
       "    }\n",
       "</style>\n",
       "<table border=\"1\" class=\"dataframe\">\n",
       "  <thead>\n",
       "    <tr style=\"text-align: right;\">\n",
       "      <th></th>\n",
       "      <th>target_file</th>\n",
       "      <th>attribute_name</th>\n",
       "      <th>attribute_definition</th>\n",
       "    </tr>\n",
       "  </thead>\n",
       "  <tbody>\n",
       "    <tr>\n",
       "      <th>0</th>\n",
       "      <td>NaN</td>\n",
       "      <td>List all the attributes in the dataset. Label ...</td>\n",
       "      <td>NaN</td>\n",
       "    </tr>\n",
       "    <tr>\n",
       "      <th>1</th>\n",
       "      <td>NaN</td>\n",
       "      <td>NaN</td>\n",
       "      <td>NaN</td>\n",
       "    </tr>\n",
       "    <tr>\n",
       "      <th>2</th>\n",
       "      <td>pat_vitals_labeled.csv</td>\n",
       "      <td>Vital signs (columns 1-8)</td>\n",
       "      <td>Doctors order, basis every 4 hours, least inva...</td>\n",
       "    </tr>\n",
       "    <tr>\n",
       "      <th>3</th>\n",
       "      <td>pat_vitals_labeled.csv</td>\n",
       "      <td>HR</td>\n",
       "      <td>Heart rate (beats per minute)</td>\n",
       "    </tr>\n",
       "    <tr>\n",
       "      <th>4</th>\n",
       "      <td>pat_vitals_labeled.csv</td>\n",
       "      <td>O2Sat</td>\n",
       "      <td>Pulse oximetry (%)</td>\n",
       "    </tr>\n",
       "    <tr>\n",
       "      <th>5</th>\n",
       "      <td>pat_vitals_labeled.csv</td>\n",
       "      <td>Temp</td>\n",
       "      <td>Temperature (Deg C)</td>\n",
       "    </tr>\n",
       "    <tr>\n",
       "      <th>6</th>\n",
       "      <td>pat_vitals_labeled.csv</td>\n",
       "      <td>SBP</td>\n",
       "      <td>Systolic BP (mm Hg)</td>\n",
       "    </tr>\n",
       "    <tr>\n",
       "      <th>7</th>\n",
       "      <td>pat_vitals_labeled.csv</td>\n",
       "      <td>MAP</td>\n",
       "      <td>Mean arterial pressure (mm Hg)</td>\n",
       "    </tr>\n",
       "    <tr>\n",
       "      <th>8</th>\n",
       "      <td>pat_vitals_labeled.csv</td>\n",
       "      <td>DBP</td>\n",
       "      <td>Diastolic BP (mm Hg)</td>\n",
       "    </tr>\n",
       "    <tr>\n",
       "      <th>9</th>\n",
       "      <td>pat_vitals_labeled.csv</td>\n",
       "      <td>Resp</td>\n",
       "      <td>Respiration rate (breaths per minute)</td>\n",
       "    </tr>\n",
       "    <tr>\n",
       "      <th>10</th>\n",
       "      <td>pat_vitals_labeled.csv</td>\n",
       "      <td>EtCO2</td>\n",
       "      <td>End tidal carbon dioxide (mm Hg)</td>\n",
       "    </tr>\n",
       "    <tr>\n",
       "      <th>11</th>\n",
       "      <td>pat_vitals_labeled.csv</td>\n",
       "      <td>isSepsis</td>\n",
       "      <td>For sepsis patients, SepsisLabel is  1</td>\n",
       "    </tr>\n",
       "    <tr>\n",
       "      <th>12</th>\n",
       "      <td>NaN</td>\n",
       "      <td>NaN</td>\n",
       "      <td>NaN</td>\n",
       "    </tr>\n",
       "  </tbody>\n",
       "</table>\n",
       "</div>"
      ],
      "text/plain": [
       "               target_file                                     attribute_name  \\\n",
       "0                      NaN  List all the attributes in the dataset. Label ...   \n",
       "1                      NaN                                                NaN   \n",
       "2   pat_vitals_labeled.csv                          Vital signs (columns 1-8)   \n",
       "3   pat_vitals_labeled.csv                                                 HR   \n",
       "4   pat_vitals_labeled.csv                                              O2Sat   \n",
       "5   pat_vitals_labeled.csv                                               Temp   \n",
       "6   pat_vitals_labeled.csv                                                SBP   \n",
       "7   pat_vitals_labeled.csv                                                MAP   \n",
       "8   pat_vitals_labeled.csv                                                DBP   \n",
       "9   pat_vitals_labeled.csv                                               Resp   \n",
       "10  pat_vitals_labeled.csv                                              EtCO2   \n",
       "11  pat_vitals_labeled.csv                                           isSepsis   \n",
       "12                     NaN                                                NaN   \n",
       "\n",
       "                                 attribute_definition  \n",
       "0                                                 NaN  \n",
       "1                                                 NaN  \n",
       "2   Doctors order, basis every 4 hours, least inva...  \n",
       "3                       Heart rate (beats per minute)  \n",
       "4                                  Pulse oximetry (%)  \n",
       "5                                 Temperature (Deg C)  \n",
       "6                                 Systolic BP (mm Hg)  \n",
       "7                      Mean arterial pressure (mm Hg)  \n",
       "8                                Diastolic BP (mm Hg)  \n",
       "9               Respiration rate (breaths per minute)  \n",
       "10                   End tidal carbon dioxide (mm Hg)  \n",
       "11            For sepsis patients, SepsisLabel is  1   \n",
       "12                                                NaN  "
      ]
     },
     "execution_count": 4,
     "metadata": {},
     "output_type": "execute_result"
    }
   ],
   "source": [
    "# list the attributes definition file for the Patient Vital Signs\n",
    "attr.head(13)"
   ]
  },
  {
   "cell_type": "markdown",
   "id": "ec6966ed-1e5a-4cd3-9c2d-2994f46a2314",
   "metadata": {},
   "source": [
    "First glance of raw data. First 10 rows."
   ]
  },
  {
   "cell_type": "code",
   "execution_count": 5,
   "id": "cb8a8397-4a42-43bb-86cc-ee4a56c1f44e",
   "metadata": {},
   "outputs": [
    {
     "data": {
      "text/html": [
       "<div>\n",
       "<style scoped>\n",
       "    .dataframe tbody tr th:only-of-type {\n",
       "        vertical-align: middle;\n",
       "    }\n",
       "\n",
       "    .dataframe tbody tr th {\n",
       "        vertical-align: top;\n",
       "    }\n",
       "\n",
       "    .dataframe thead th {\n",
       "        text-align: right;\n",
       "    }\n",
       "</style>\n",
       "<table border=\"1\" class=\"dataframe\">\n",
       "  <thead>\n",
       "    <tr style=\"text-align: right;\">\n",
       "      <th></th>\n",
       "      <th>patient_id</th>\n",
       "      <th>record_date</th>\n",
       "      <th>record_time</th>\n",
       "      <th>HR</th>\n",
       "      <th>O2Sat</th>\n",
       "      <th>Temp</th>\n",
       "      <th>SBP</th>\n",
       "      <th>MAP</th>\n",
       "      <th>DBP</th>\n",
       "      <th>Resp</th>\n",
       "      <th>EtCO2</th>\n",
       "      <th>isSepsis</th>\n",
       "    </tr>\n",
       "  </thead>\n",
       "  <tbody>\n",
       "    <tr>\n",
       "      <th>0</th>\n",
       "      <td>1</td>\n",
       "      <td>NaN</td>\n",
       "      <td>NaN</td>\n",
       "      <td>63</td>\n",
       "      <td>90.0</td>\n",
       "      <td>40.30</td>\n",
       "      <td>NaN</td>\n",
       "      <td>NaN</td>\n",
       "      <td>NaN</td>\n",
       "      <td>17</td>\n",
       "      <td>NaN</td>\n",
       "      <td>0</td>\n",
       "    </tr>\n",
       "    <tr>\n",
       "      <th>1</th>\n",
       "      <td>2</td>\n",
       "      <td>NaN</td>\n",
       "      <td>NaN</td>\n",
       "      <td>79</td>\n",
       "      <td>95.0</td>\n",
       "      <td>39.20</td>\n",
       "      <td>143.0</td>\n",
       "      <td>77.0</td>\n",
       "      <td>47.0</td>\n",
       "      <td>13</td>\n",
       "      <td>NaN</td>\n",
       "      <td>0</td>\n",
       "    </tr>\n",
       "    <tr>\n",
       "      <th>2</th>\n",
       "      <td>3</td>\n",
       "      <td>NaN</td>\n",
       "      <td>NaN</td>\n",
       "      <td>87</td>\n",
       "      <td>94.0</td>\n",
       "      <td>40.30</td>\n",
       "      <td>133.0</td>\n",
       "      <td>74.0</td>\n",
       "      <td>48.0</td>\n",
       "      <td>20</td>\n",
       "      <td>NaN</td>\n",
       "      <td>0</td>\n",
       "    </tr>\n",
       "    <tr>\n",
       "      <th>3</th>\n",
       "      <td>4</td>\n",
       "      <td>NaN</td>\n",
       "      <td>NaN</td>\n",
       "      <td>71</td>\n",
       "      <td>100.0</td>\n",
       "      <td>42.10</td>\n",
       "      <td>NaN</td>\n",
       "      <td>NaN</td>\n",
       "      <td>NaN</td>\n",
       "      <td>15</td>\n",
       "      <td>NaN</td>\n",
       "      <td>0</td>\n",
       "    </tr>\n",
       "    <tr>\n",
       "      <th>4</th>\n",
       "      <td>5</td>\n",
       "      <td>NaN</td>\n",
       "      <td>NaN</td>\n",
       "      <td>68</td>\n",
       "      <td>94.5</td>\n",
       "      <td>39.70</td>\n",
       "      <td>147.5</td>\n",
       "      <td>102.0</td>\n",
       "      <td>NaN</td>\n",
       "      <td>20</td>\n",
       "      <td>NaN</td>\n",
       "      <td>0</td>\n",
       "    </tr>\n",
       "    <tr>\n",
       "      <th>5</th>\n",
       "      <td>6</td>\n",
       "      <td>NaN</td>\n",
       "      <td>NaN</td>\n",
       "      <td>78</td>\n",
       "      <td>99.0</td>\n",
       "      <td>39.60</td>\n",
       "      <td>100.0</td>\n",
       "      <td>67.0</td>\n",
       "      <td>49.5</td>\n",
       "      <td>18</td>\n",
       "      <td>NaN</td>\n",
       "      <td>0</td>\n",
       "    </tr>\n",
       "    <tr>\n",
       "      <th>6</th>\n",
       "      <td>7</td>\n",
       "      <td>NaN</td>\n",
       "      <td>NaN</td>\n",
       "      <td>242</td>\n",
       "      <td>NaN</td>\n",
       "      <td>39.30</td>\n",
       "      <td>NaN</td>\n",
       "      <td>NaN</td>\n",
       "      <td>NaN</td>\n",
       "      <td>33</td>\n",
       "      <td>NaN</td>\n",
       "      <td>1</td>\n",
       "    </tr>\n",
       "    <tr>\n",
       "      <th>7</th>\n",
       "      <td>8</td>\n",
       "      <td>NaN</td>\n",
       "      <td>NaN</td>\n",
       "      <td>81</td>\n",
       "      <td>100.0</td>\n",
       "      <td>40.30</td>\n",
       "      <td>112.0</td>\n",
       "      <td>79.5</td>\n",
       "      <td>63.0</td>\n",
       "      <td>18</td>\n",
       "      <td>NaN</td>\n",
       "      <td>0</td>\n",
       "    </tr>\n",
       "    <tr>\n",
       "      <th>8</th>\n",
       "      <td>9</td>\n",
       "      <td>NaN</td>\n",
       "      <td>NaN</td>\n",
       "      <td>178</td>\n",
       "      <td>100.0</td>\n",
       "      <td>39.22</td>\n",
       "      <td>141.0</td>\n",
       "      <td>85.0</td>\n",
       "      <td>57.0</td>\n",
       "      <td>22</td>\n",
       "      <td>NaN</td>\n",
       "      <td>1</td>\n",
       "    </tr>\n",
       "    <tr>\n",
       "      <th>9</th>\n",
       "      <td>10</td>\n",
       "      <td>NaN</td>\n",
       "      <td>NaN</td>\n",
       "      <td>81</td>\n",
       "      <td>95.0</td>\n",
       "      <td>39.20</td>\n",
       "      <td>121.0</td>\n",
       "      <td>20.0</td>\n",
       "      <td>NaN</td>\n",
       "      <td>17</td>\n",
       "      <td>NaN</td>\n",
       "      <td>0</td>\n",
       "    </tr>\n",
       "  </tbody>\n",
       "</table>\n",
       "</div>"
      ],
      "text/plain": [
       "   patient_id  record_date  record_time   HR  O2Sat   Temp    SBP    MAP  \\\n",
       "0           1          NaN          NaN   63   90.0  40.30    NaN    NaN   \n",
       "1           2          NaN          NaN   79   95.0  39.20  143.0   77.0   \n",
       "2           3          NaN          NaN   87   94.0  40.30  133.0   74.0   \n",
       "3           4          NaN          NaN   71  100.0  42.10    NaN    NaN   \n",
       "4           5          NaN          NaN   68   94.5  39.70  147.5  102.0   \n",
       "5           6          NaN          NaN   78   99.0  39.60  100.0   67.0   \n",
       "6           7          NaN          NaN  242    NaN  39.30    NaN    NaN   \n",
       "7           8          NaN          NaN   81  100.0  40.30  112.0   79.5   \n",
       "8           9          NaN          NaN  178  100.0  39.22  141.0   85.0   \n",
       "9          10          NaN          NaN   81   95.0  39.20  121.0   20.0   \n",
       "\n",
       "    DBP  Resp  EtCO2  isSepsis  \n",
       "0   NaN    17    NaN         0  \n",
       "1  47.0    13    NaN         0  \n",
       "2  48.0    20    NaN         0  \n",
       "3   NaN    15    NaN         0  \n",
       "4   NaN    20    NaN         0  \n",
       "5  49.5    18    NaN         0  \n",
       "6   NaN    33    NaN         1  \n",
       "7  63.0    18    NaN         0  \n",
       "8  57.0    22    NaN         1  \n",
       "9   NaN    17    NaN         0  "
      ]
     },
     "execution_count": 5,
     "metadata": {},
     "output_type": "execute_result"
    }
   ],
   "source": [
    "data.head(10)"
   ]
  },
  {
   "cell_type": "markdown",
   "id": "f559e403-fdfb-48e9-b653-bdd8e6f36a35",
   "metadata": {},
   "source": [
    "What types of columns and data do we have?\n",
    "1. are we missing any records? \n",
    "1. are we missing entries? \n",
    "1. do we have any categorical data?\n",
    "If yes for any above questions, plan to collect, drop, or convert."
   ]
  },
  {
   "cell_type": "code",
   "execution_count": 10,
   "id": "8da05c7d-b7be-480e-b376-7915147564e3",
   "metadata": {},
   "outputs": [
    {
     "name": "stdout",
     "output_type": "stream",
     "text": [
      "<class 'pandas.core.frame.DataFrame'>\n",
      "RangeIndex: 36302 entries, 0 to 36301\n",
      "Data columns (total 12 columns):\n",
      " #   Column       Non-Null Count  Dtype  \n",
      "---  ------       --------------  -----  \n",
      " 0   patient_id   36302 non-null  int64  \n",
      " 1   record_date  0 non-null      float64\n",
      " 2   record_time  0 non-null      float64\n",
      " 3   HR           36302 non-null  int64  \n",
      " 4   O2Sat        34736 non-null  float64\n",
      " 5   Temp         36302 non-null  float64\n",
      " 6   SBP          34617 non-null  float64\n",
      " 7   MAP          34846 non-null  float64\n",
      " 8   DBP          27917 non-null  float64\n",
      " 9   Resp         36302 non-null  int64  \n",
      " 10  EtCO2        1613 non-null   float64\n",
      " 11  isSepsis     36302 non-null  int64  \n",
      "dtypes: float64(8), int64(4)\n",
      "memory usage: 3.3 MB\n"
     ]
    }
   ],
   "source": [
    "data.info()"
   ]
  },
  {
   "cell_type": "code",
   "execution_count": 11,
   "id": "aa1bc4b5-7e32-47ce-809c-540e117de460",
   "metadata": {},
   "outputs": [
    {
     "data": {
      "text/plain": [
       "record_date        0\n",
       "record_time        0\n",
       "EtCO2           1613\n",
       "DBP            27917\n",
       "SBP            34617\n",
       "O2Sat          34736\n",
       "MAP            34846\n",
       "patient_id     36302\n",
       "HR             36302\n",
       "Temp           36302\n",
       "Resp           36302\n",
       "isSepsis       36302\n",
       "dtype: int64"
      ]
     },
     "execution_count": 11,
     "metadata": {},
     "output_type": "execute_result"
    }
   ],
   "source": [
    "data.count(axis=0).sort_values(ascending=True)"
   ]
  },
  {
   "cell_type": "markdown",
   "id": "f25705a5-1ad8-4b8e-b9cd-1de3de4092b4",
   "metadata": {},
   "source": [
    "Forward Action\n",
    "1. drop record_date\n",
    "1. drop record_time\n",
    "1. drop EtCO2"
   ]
  },
  {
   "cell_type": "markdown",
   "id": "c75cdd4d-f93d-4cf5-96c3-7fbccc6ca2f2",
   "metadata": {},
   "source": [
    "What does calculus expose about the data?\n",
    "\n",
    "Average (mean), minimum (min), maximum (max) are self-explanatory\n",
    "\n",
    "Standard deviation (std) how dispersed the values are\n",
    "- normal (Gaussian) distribution follows 68-95-99.7 rule\n",
    "- % of values are within 1 std\n",
    "- % of values are within 2 std\n",
    "- % of values are within 3 std\n",
    "\n",
    "1st (25%), median (50%), 3rd (75%) quartiles or percentiles, for example:\n",
    "- % of the patients had a temp lower than 36.3°C\n",
    "- % of the patients had a resp higher than 20.5 breaths per minute"
   ]
  },
  {
   "cell_type": "code",
   "execution_count": 13,
   "id": "6ff90f63-8651-4fdc-9f0b-759e60e7a06b",
   "metadata": {},
   "outputs": [
    {
     "data": {
      "text/html": [
       "<div>\n",
       "<style scoped>\n",
       "    .dataframe tbody tr th:only-of-type {\n",
       "        vertical-align: middle;\n",
       "    }\n",
       "\n",
       "    .dataframe tbody tr th {\n",
       "        vertical-align: top;\n",
       "    }\n",
       "\n",
       "    .dataframe thead th {\n",
       "        text-align: right;\n",
       "    }\n",
       "</style>\n",
       "<table border=\"1\" class=\"dataframe\">\n",
       "  <thead>\n",
       "    <tr style=\"text-align: right;\">\n",
       "      <th></th>\n",
       "      <th>count</th>\n",
       "      <th>mean</th>\n",
       "      <th>std</th>\n",
       "      <th>min</th>\n",
       "      <th>25%</th>\n",
       "      <th>50%</th>\n",
       "      <th>75%</th>\n",
       "      <th>max</th>\n",
       "    </tr>\n",
       "  </thead>\n",
       "  <tbody>\n",
       "    <tr>\n",
       "      <th>patient_id</th>\n",
       "      <td>36302.0</td>\n",
       "      <td>18151.500000</td>\n",
       "      <td>10479.629073</td>\n",
       "      <td>1.0</td>\n",
       "      <td>9076.25</td>\n",
       "      <td>18151.5</td>\n",
       "      <td>27226.75</td>\n",
       "      <td>36302.0</td>\n",
       "    </tr>\n",
       "    <tr>\n",
       "      <th>record_date</th>\n",
       "      <td>0.0</td>\n",
       "      <td>NaN</td>\n",
       "      <td>NaN</td>\n",
       "      <td>NaN</td>\n",
       "      <td>NaN</td>\n",
       "      <td>NaN</td>\n",
       "      <td>NaN</td>\n",
       "      <td>NaN</td>\n",
       "    </tr>\n",
       "    <tr>\n",
       "      <th>record_time</th>\n",
       "      <td>0.0</td>\n",
       "      <td>NaN</td>\n",
       "      <td>NaN</td>\n",
       "      <td>NaN</td>\n",
       "      <td>NaN</td>\n",
       "      <td>NaN</td>\n",
       "      <td>NaN</td>\n",
       "      <td>NaN</td>\n",
       "    </tr>\n",
       "    <tr>\n",
       "      <th>HR</th>\n",
       "      <td>36302.0</td>\n",
       "      <td>80.630131</td>\n",
       "      <td>26.527839</td>\n",
       "      <td>60.0</td>\n",
       "      <td>68.00</td>\n",
       "      <td>76.0</td>\n",
       "      <td>84.00</td>\n",
       "      <td>250.0</td>\n",
       "    </tr>\n",
       "    <tr>\n",
       "      <th>O2Sat</th>\n",
       "      <td>34736.0</td>\n",
       "      <td>97.444337</td>\n",
       "      <td>2.827282</td>\n",
       "      <td>27.0</td>\n",
       "      <td>96.00</td>\n",
       "      <td>98.0</td>\n",
       "      <td>100.00</td>\n",
       "      <td>100.0</td>\n",
       "    </tr>\n",
       "    <tr>\n",
       "      <th>Temp</th>\n",
       "      <td>36302.0</td>\n",
       "      <td>37.430816</td>\n",
       "      <td>1.312797</td>\n",
       "      <td>35.0</td>\n",
       "      <td>36.60</td>\n",
       "      <td>37.2</td>\n",
       "      <td>37.90</td>\n",
       "      <td>42.3</td>\n",
       "    </tr>\n",
       "    <tr>\n",
       "      <th>SBP</th>\n",
       "      <td>34617.0</td>\n",
       "      <td>122.625064</td>\n",
       "      <td>23.092558</td>\n",
       "      <td>32.0</td>\n",
       "      <td>106.00</td>\n",
       "      <td>120.0</td>\n",
       "      <td>137.00</td>\n",
       "      <td>281.0</td>\n",
       "    </tr>\n",
       "    <tr>\n",
       "      <th>MAP</th>\n",
       "      <td>34846.0</td>\n",
       "      <td>82.263649</td>\n",
       "      <td>16.876642</td>\n",
       "      <td>20.0</td>\n",
       "      <td>71.00</td>\n",
       "      <td>80.0</td>\n",
       "      <td>91.33</td>\n",
       "      <td>291.0</td>\n",
       "    </tr>\n",
       "    <tr>\n",
       "      <th>DBP</th>\n",
       "      <td>27917.0</td>\n",
       "      <td>63.793506</td>\n",
       "      <td>14.130816</td>\n",
       "      <td>22.0</td>\n",
       "      <td>54.00</td>\n",
       "      <td>62.0</td>\n",
       "      <td>72.00</td>\n",
       "      <td>281.0</td>\n",
       "    </tr>\n",
       "    <tr>\n",
       "      <th>Resp</th>\n",
       "      <td>36302.0</td>\n",
       "      <td>18.001543</td>\n",
       "      <td>5.154509</td>\n",
       "      <td>12.0</td>\n",
       "      <td>14.00</td>\n",
       "      <td>17.0</td>\n",
       "      <td>19.00</td>\n",
       "      <td>35.0</td>\n",
       "    </tr>\n",
       "    <tr>\n",
       "      <th>EtCO2</th>\n",
       "      <td>1613.0</td>\n",
       "      <td>32.402046</td>\n",
       "      <td>7.947214</td>\n",
       "      <td>10.0</td>\n",
       "      <td>28.00</td>\n",
       "      <td>33.0</td>\n",
       "      <td>37.50</td>\n",
       "      <td>97.0</td>\n",
       "    </tr>\n",
       "    <tr>\n",
       "      <th>isSepsis</th>\n",
       "      <td>36302.0</td>\n",
       "      <td>0.072916</td>\n",
       "      <td>0.260002</td>\n",
       "      <td>0.0</td>\n",
       "      <td>0.00</td>\n",
       "      <td>0.0</td>\n",
       "      <td>0.00</td>\n",
       "      <td>1.0</td>\n",
       "    </tr>\n",
       "  </tbody>\n",
       "</table>\n",
       "</div>"
      ],
      "text/plain": [
       "               count          mean           std   min      25%      50%  \\\n",
       "patient_id   36302.0  18151.500000  10479.629073   1.0  9076.25  18151.5   \n",
       "record_date      0.0           NaN           NaN   NaN      NaN      NaN   \n",
       "record_time      0.0           NaN           NaN   NaN      NaN      NaN   \n",
       "HR           36302.0     80.630131     26.527839  60.0    68.00     76.0   \n",
       "O2Sat        34736.0     97.444337      2.827282  27.0    96.00     98.0   \n",
       "Temp         36302.0     37.430816      1.312797  35.0    36.60     37.2   \n",
       "SBP          34617.0    122.625064     23.092558  32.0   106.00    120.0   \n",
       "MAP          34846.0     82.263649     16.876642  20.0    71.00     80.0   \n",
       "DBP          27917.0     63.793506     14.130816  22.0    54.00     62.0   \n",
       "Resp         36302.0     18.001543      5.154509  12.0    14.00     17.0   \n",
       "EtCO2         1613.0     32.402046      7.947214  10.0    28.00     33.0   \n",
       "isSepsis     36302.0      0.072916      0.260002   0.0     0.00      0.0   \n",
       "\n",
       "                  75%      max  \n",
       "patient_id   27226.75  36302.0  \n",
       "record_date       NaN      NaN  \n",
       "record_time       NaN      NaN  \n",
       "HR              84.00    250.0  \n",
       "O2Sat          100.00    100.0  \n",
       "Temp            37.90     42.3  \n",
       "SBP            137.00    281.0  \n",
       "MAP             91.33    291.0  \n",
       "DBP             72.00    281.0  \n",
       "Resp            19.00     35.0  \n",
       "EtCO2           37.50     97.0  \n",
       "isSepsis         0.00      1.0  "
      ]
     },
     "execution_count": 13,
     "metadata": {},
     "output_type": "execute_result"
    }
   ],
   "source": [
    "data.describe(include=\"all\").T"
   ]
  },
  {
   "cell_type": "markdown",
   "id": "b3133959-7d5e-44c2-b6ea-3fe5f82c399d",
   "metadata": {},
   "source": [
    "Forward Action\n",
    "1. Scale remaining signals between 0 and 1"
   ]
  },
  {
   "cell_type": "markdown",
   "id": "d6489bd7-d231-495a-980f-5ebdf1374849",
   "metadata": {},
   "source": [
    "Are Sepsis patient entries representative of the real world? A common split is:\n",
    "- 93% of patients are not septic\n",
    "- 7% of patients are septic"
   ]
  },
  {
   "cell_type": "code",
   "execution_count": 14,
   "id": "30899d90-eefc-4b47-94d8-c95fe0dd983f",
   "metadata": {},
   "outputs": [
    {
     "data": {
      "text/html": [
       "<div>\n",
       "<style scoped>\n",
       "    .dataframe tbody tr th:only-of-type {\n",
       "        vertical-align: middle;\n",
       "    }\n",
       "\n",
       "    .dataframe tbody tr th {\n",
       "        vertical-align: top;\n",
       "    }\n",
       "\n",
       "    .dataframe thead th {\n",
       "        text-align: right;\n",
       "    }\n",
       "</style>\n",
       "<table border=\"1\" class=\"dataframe\">\n",
       "  <thead>\n",
       "    <tr style=\"text-align: right;\">\n",
       "      <th></th>\n",
       "      <th>isSepsis</th>\n",
       "    </tr>\n",
       "  </thead>\n",
       "  <tbody>\n",
       "    <tr>\n",
       "      <th>0</th>\n",
       "      <td>0.927084</td>\n",
       "    </tr>\n",
       "    <tr>\n",
       "      <th>1</th>\n",
       "      <td>0.072916</td>\n",
       "    </tr>\n",
       "  </tbody>\n",
       "</table>\n",
       "</div>"
      ],
      "text/plain": [
       "   isSepsis\n",
       "0  0.927084\n",
       "1  0.072916"
      ]
     },
     "execution_count": 14,
     "metadata": {},
     "output_type": "execute_result"
    }
   ],
   "source": [
    "data[\"isSepsis\"].value_counts(normalize=True).to_frame()"
   ]
  },
  {
   "cell_type": "markdown",
   "id": "f636f793-cef8-44e0-9536-671146fa400c",
   "metadata": {},
   "source": [
    "Create a Test Dataset\n",
    "\n",
    "- Performing this early minimizes generalization and bias you may inadvertently apply to your system. \n",
    "- A test set of data involves: picking ~(10, 15, or 20)% of the instances randomly and setting them aside.\n",
    "- you never want your model to see the entire dataset\n",
    "- you should plab to fetch new data for training\n",
    "- you want to maintain the same percentage of training data against the entire dataset\n",
    "- you want a representative training dataset (~7% septic positive)"
   ]
  },
  {
   "cell_type": "code",
   "execution_count": 16,
   "id": "db865a15-4348-4aa1-b0f1-0f44fc2dede8",
   "metadata": {},
   "outputs": [
    {
     "name": "stdout",
     "output_type": "stream",
     "text": [
      "Training data:  (30856, 11)\n",
      "Training labels:  (30856,)\n",
      "Testing data:  (5446, 11)\n",
      "Testing labels:  (5446,)\n"
     ]
    }
   ],
   "source": [
    "X_train, X_test, y_train, y_test = \\\n",
    "    train_test_split(data.drop(\"isSepsis\", axis=1),\n",
    "                     data[\"isSepsis\"], test_size=0.15,\n",
    "                     random_state=42, stratify=data[\"isSepsis\"])\n",
    "\n",
    "print(\"Training data: \", X_train.shape)\n",
    "print(\"Training labels: \", y_train.shape)\n",
    "\n",
    "print(\"Testing data: \", X_test.shape)\n",
    "print(\"Testing labels: \", y_test.shape)"
   ]
  },
  {
   "cell_type": "markdown",
   "id": "d1163960-6227-4b46-a9e0-a8f993c42734",
   "metadata": {},
   "source": [
    "Plot the non-septic (0) vs. septic (1) patient records to identify clear distinctions?"
   ]
  },
  {
   "cell_type": "code",
   "execution_count": 19,
   "id": "3d32b065-fcfa-4923-b04d-454a2c3478d2",
   "metadata": {},
   "outputs": [],
   "source": [
    "vitals = [\"HR\", # Heart Rate normal adult 60 - 100 beats per minute (bpm)\n",
    "          'O2Sat', # Oxygen saturation normal adult 97% - 100% (%)\n",
    "          'Temp', # Temperature normal 97.8°F/36.5°C - 99°F/37.2°C (°C)\n",
    "          'SBP', # Systolic Blood Pressure normal < 120 mmHg (mm Hg) (indicates how much pressure your blood is exerting against your artery walls when the heart beats.)\n",
    "          'DBP', # beclomethasone dipropionate normal < 80 mmHg (mm Hg) (indicates how much pressure your blood is exerting against your artery walls while the heart is resting between beats.)\n",
    "          'MAP', # Mean Arterial Pressure (mm Hg)\n",
    "          'Resp', # Respiration rate  12<normal<20 breaths / minute (bpm)\n",
    "          \"EtCO2\" # End-tidal CO2 maximum concentration of CO2 at exhalation normal 35 - 45 mmHg (mm Hg)\n",
    "          ]"
   ]
  },
  {
   "cell_type": "code",
   "execution_count": 20,
   "id": "031de1b2-bee8-4576-b043-accae638fefa",
   "metadata": {},
   "outputs": [
    {
     "data": {
      "image/png": "[encoded data removed]",
      "text/plain": [
       "<Figure size 1296x864 with 8 Axes>"
      ]
     },
     "metadata": {},
     "output_type": "display_data"
    }
   ],
   "source": [
    "sns.set_theme(context=\"notebook\", style=\"ticks\", palette=\"colorblind\")\n",
    "plt.figure(figsize=(18,12))\n",
    "plt.subplots_adjust(hspace = .5)\n",
    "for i, column in enumerate(vitals, 1):\n",
    "    plt.subplot(4,2,i)\n",
    "    # stat = Aggregate statistic to compute in each bin density normalizes counts so that the area of the histogram is 1\n",
    "    # common_norm = False = normalize each histogram independently\n",
    "    # kde = If True, compute a kernel density estimate to smooth the distribution and show on the plot as (one or more) line(s)\n",
    "    sns.histplot(data=X_train, x=column, hue=y_train, stat=\"density\", common_norm=False, bins=60, kde=True)"
   ]
  },
  {
   "cell_type": "markdown",
   "id": "18bf4ee0-3d5f-40d3-a107-6572ebf9f22d",
   "metadata": {},
   "source": [
    "Observations\n",
    "1. HR, Temp, MAP, Resp all have clear separation between Septic and non-Septic patients\n",
    "1. SBP and DBP are used to calculate MAP, could drop\n",
    "1. no clear pattern in O2Sat and EtCO2"
   ]
  },
  {
   "cell_type": "markdown",
   "id": "0543287b-dd0a-4bc4-8a7a-15925e387989",
   "metadata": {},
   "source": [
    "Is there correlation between signals?"
   ]
  },
  {
   "cell_type": "code",
   "execution_count": 21,
   "id": "914612c6-689f-44c9-8e34-fa17a15b8c04",
   "metadata": {},
   "outputs": [
    {
     "data": {
      "text/plain": [
       "<AxesSubplot:>"
      ]
     },
     "execution_count": 21,
     "metadata": {},
     "output_type": "execute_result"
    },
    {
     "data": {
      "image/png": "[encoded data removed]",
      "text/plain": [
       "<Figure size 1872x1584 with 2 Axes>"
      ]
     },
     "metadata": {},
     "output_type": "display_data"
    }
   ],
   "source": [
    "corr_features = [\n",
    "               # vitals\n",
    "               \"HR\", # Heart Rate normal adult 60 - 100 beats per minute (bpm)\n",
    "               \"O2Sat\", # Oxygen saturation normal adult 97% - 100% (%)\n",
    "               \"Temp\", # Temperature normal 97.8°F/36.5°C - 99°F/37.2°C (°C)\n",
    "               \"SBP\", # Systolic Blood Pressure normal < 120 mmHg (mm Hg)\n",
    "               \"DBP\", # beclomethasone dipropionate normal < 80 mmHg (mm Hg)\n",
    "               \"MAP\", # Mean Arterial Pressure (mm Hg)\n",
    "               \"Resp\", # Respiration rate  12<normal<20 breaths / minute (bpm)\n",
    "               \"EtCO2\", # End-tidal CO2 maximum concentration of CO2 at exhalation normal 35 - 45 mmHg (mm Hg) = REMOVED missing too much data\n",
    "            ]\n",
    "corr_matrix = data[corr_features].corr()\n",
    "\n",
    "mask = np.zeros_like(corr_matrix)\n",
    "mask[np.triu_indices_from(mask)] = True\n",
    "plt.figure(figsize=(26,22))\n",
    "sns.heatmap(corr_matrix, mask=mask, square=True, annot=True, fmt=\".2f\", center=0, linewidths=.5, cmap=\"RdBu\")"
   ]
  },
  {
   "cell_type": "code",
   "execution_count": null,
   "id": "56128cf8-5084-4fc4-874d-0aebd151f94c",
   "metadata": {},
   "outputs": [],
   "source": [
    "Observations\n",
    "1. DBP and SBP are used to calculate MAP, so they are highly correlated"
   ]
  },
  {
   "cell_type": "markdown",
   "id": "a4036d96-ffb5-41a1-a6d1-082975c882fe",
   "metadata": {},
   "source": [
    "Another view is correlation against the label:"
   ]
  },
  {
   "cell_type": "code",
   "execution_count": 22,
   "id": "1d481bf4-589d-458b-aa33-4f4e19469ab9",
   "metadata": {},
   "outputs": [
    {
     "data": {
      "text/plain": [
       "isSepsis       1.000000\n",
       "Resp           0.512989\n",
       "HR             0.417939\n",
       "Temp           0.138484\n",
       "EtCO2         -0.005394\n",
       "SBP           -0.027312\n",
       "DBP           -0.043104\n",
       "MAP           -0.045914\n",
       "patient_id    -0.049953\n",
       "O2Sat         -0.050067\n",
       "record_date         NaN\n",
       "record_time         NaN\n",
       "Name: isSepsis, dtype: float64"
      ]
     },
     "execution_count": 22,
     "metadata": {},
     "output_type": "execute_result"
    }
   ],
   "source": [
    "corr_matrix = data.corr()\n",
    "corr_matrix[\"isSepsis\"].sort_values(ascending=False)"
   ]
  },
  {
   "cell_type": "markdown",
   "id": "d12a0a86-9b0f-4d82-8899-5a87408ce641",
   "metadata": {},
   "source": [
    "Observation\n",
    "1. Resp, HR, and Temp are highly correlated to Septic patients"
   ]
  },
  {
   "cell_type": "markdown",
   "id": "0cbf28f2-fe8c-4913-b3a9-dfe6c8cac33c",
   "metadata": {},
   "source": [
    "Reference List:\n",
    "- https://www.ncbi.nlm.nih.gov/pmc/articles/PMC6304323/\n",
    "- https://www.aafp.org/afp/2013/0701/p44.html\n",
    "- https://www.kaggle.com/maxskoryk/datasepsis\n",
    "- https://www.nursingcenter.com/ncblog/march-2017/elevated-lactate-%E2%80%93-not-just-a-marker-for-sepsis-an\n",
    "- https://unitslab.com/node/74"
   ]
  },
  {
   "cell_type": "code",
   "execution_count": null,
   "id": "c4a593c4-5381-4ff4-aecd-3e2aac701d43",
   "metadata": {},
   "outputs": [],
   "source": []
  }
 ],
 "metadata": {
  "kernelspec": {
   "display_name": "Python 3 (ipykernel)",
   "language": "python",
   "name": "python3"
  },
  "language_info": {
   "codemirror_mode": {
    "name": "ipython",
    "version": 3
   },
   "file_extension": ".py",
   "mimetype": "text/x-python",
   "name": "python",
   "nbconvert_exporter": "python",
   "pygments_lexer": "ipython3",
   "version": "3.8.8"
  }
 },
 "nbformat": 4,
 "nbformat_minor": 5
}
