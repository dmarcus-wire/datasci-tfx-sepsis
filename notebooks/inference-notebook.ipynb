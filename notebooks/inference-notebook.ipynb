{
 "cells": [
  {
   "cell_type": "markdown",
   "id": "2e335fe3-4904-4f54-b14b-76cd3ee53344",
   "metadata": {},
   "source": [
    "https://www.adaltas.com/en/2021/03/05/tfx-overview/"
   ]
  },
  {
   "cell_type": "code",
   "execution_count": null,
   "id": "b4b836b2-882e-4e66-9bab-ea14a0323e81",
   "metadata": {},
   "outputs": [],
   "source": [
    "import os\n",
    "import pprint\n",
    "import tempfile\n",
    "import urllib\n",
    "import tensorboard\n",
    "\n",
    "import absl\n",
    "import tensorflow as tf\n",
    "import tensorflow_model_analysis as tfma\n",
    "tf.get_logger().propagate = False\n",
    "pp = pprint.PrettyPrinter()\n",
    "\n",
    "from tfx import v1 as tfx\n",
    "from tfx.orchestration.experimental.interactive.interactive_context import InteractiveContext\n",
    "\n",
    "%load_ext tfx.orchestration.experimental.interactive.notebook_extensions.skip"
   ]
  },
  {
   "cell_type": "code",
   "execution_count": null,
   "id": "ccf9bce6-03c8-47bc-b58d-d460f4f2613e",
   "metadata": {},
   "outputs": [],
   "source": [
    "# This is the root directory for your TFX pip package installation.\n",
    "_tfx_root = tfx.__path__[0]\n",
    "\n",
    "# This is the directory containing the TFX Vitals Pipeline example.\n",
    "_vitals_root = os.path.join(_tfx_root, '../pipeline/vitals')\n",
    "\n",
    "# This is the path where your model will be pushed for serving.\n",
    "_serving_model_dir = '../models/vitals_simple'\n",
    "\n",
    "# Set up logging.\n",
    "absl.logging.set_verbosity(absl.logging.INFO)"
   ]
  },
  {
   "cell_type": "code",
   "execution_count": null,
   "id": "0381ab38-0504-45ef-95fa-341b398fc028",
   "metadata": {},
   "outputs": [],
   "source": [
    "_example_root = '../data/new'\n",
    "_example_raw = \"../data/raw/pat_vitals_unlabelled-dataSepsis.csv\"\n",
    "#s3.download_file(s3_bucket, \"data/pat_vitals_unlabelled-dataSepsis.csv\", _data_raw)"
   ]
  },
  {
   "cell_type": "code",
   "execution_count": null,
   "id": "92852968-a6c4-43e4-a808-a0d5c0b61870",
   "metadata": {},
   "outputs": [],
   "source": [
    "# view the actual patient data with sepsis labels\n",
    "# 1 = septic, 0 = not-septic\n",
    "!head {_example_raw}"
   ]
  },
  {
   "cell_type": "code",
   "execution_count": null,
   "id": "a4dbc986-068d-4589-a488-c295a1e05977",
   "metadata": {},
   "outputs": [],
   "source": [
    "context = InteractiveContext(pipeline_root='../pipeline')"
   ]
  },
  {
   "cell_type": "code",
   "execution_count": 1,
   "id": "ef63074e-98c2-4569-a2db-ce275a30c19b",
   "metadata": {},
   "outputs": [
    {
     "ename": "NameError",
     "evalue": "name 'tfx' is not defined",
     "output_type": "error",
     "traceback": [
      "\u001b[0;31m---------------------------------------------------------------------------\u001b[0m",
      "\u001b[0;31mNameError\u001b[0m                                 Traceback (most recent call last)",
      "\u001b[0;32m<ipython-input-1-907349e84f81>\u001b[0m in \u001b[0;36m<module>\u001b[0;34m\u001b[0m\n\u001b[0;32m----> 1\u001b[0;31m \u001b[0mexample_gen\u001b[0m \u001b[0;34m=\u001b[0m \u001b[0mtfx\u001b[0m\u001b[0;34m.\u001b[0m\u001b[0mcomponents\u001b[0m\u001b[0;34m.\u001b[0m\u001b[0mCsvExampleGen\u001b[0m\u001b[0;34m(\u001b[0m\u001b[0minput_base\u001b[0m\u001b[0;34m=\u001b[0m\u001b[0m_example_root\u001b[0m\u001b[0;34m)\u001b[0m\u001b[0;34m\u001b[0m\u001b[0;34m\u001b[0m\u001b[0m\n\u001b[0m\u001b[1;32m      2\u001b[0m \u001b[0mcontext\u001b[0m\u001b[0;34m.\u001b[0m\u001b[0mrun\u001b[0m\u001b[0;34m(\u001b[0m\u001b[0mexample_gen\u001b[0m\u001b[0;34m,\u001b[0m \u001b[0menable_cache\u001b[0m\u001b[0;34m=\u001b[0m\u001b[0;32mTrue\u001b[0m\u001b[0;34m)\u001b[0m\u001b[0;34m\u001b[0m\u001b[0;34m\u001b[0m\u001b[0m\n",
      "\u001b[0;31mNameError\u001b[0m: name 'tfx' is not defined"
     ]
    }
   ],
   "source": [
    "# input_config An example_gen_pb2.Input instance, providing input configuration. If unset, the files under input_base will be treated as a single split.\n",
    "# output_config An example_gen_pb2.Output instance, providing output configuration. If unset, default splits will be 'train' and 'eval' with size 2:1\n",
    "# range_config An optional range_config_pb2.RangeConfig instance, specifying the range of span values to consider. If unset, driver will default to searching for latest span with no restrictions.\n",
    "# outputs Component's output channel dict.\n",
    "\n",
    "inference_example_gen = tfx.components.CsvExampleGen(\n",
    "    # input_base an external directory containing the CSV files.\n",
    "    input_base=_example_root,\n",
    "    # name of the root folder the TFRecord is output to ('examples' by default)\n",
    "    instance_name=inference\n",
    "    )\n",
    "context.run(inference_example_gen, enable_cache=True)"
   ]
  },
  {
   "cell_type": "code",
   "execution_count": null,
   "id": "5ea0e185-38e3-4928-a1c0-d8e60882004a",
   "metadata": {},
   "outputs": [],
   "source": [
    "# Uses BulkInferrer to inference on examples.\n",
    "# examples A BaseChannel of type standard_artifacts.Examples, usually produced by an ExampleGen component. required\n",
    "# model A BaseChannel of type standard_artifacts.Model, usually produced by a Trainer component.\n",
    "\n",
    "bulk_inferrer = BulkInferrer(\n",
    "    examples=example_gen.outputs['examples'],\n",
    "    model=trainer.outputs['model'])\n",
    "\n",
    "bulk_inferrer = BulkInferrer(\n",
    " examples=inference_example_gen.outputs[‘examples’],\n",
    " model_export=trainer.outputs[‘output’],\n",
    " model_blessing=evaluator.outputs[‘blessing’],\n",
    " data_spec=bulk_inferrer_pb2.DataSpec(\n",
    " example_splits=[‘unlabelled’]),\n",
    " model_spec=bulk_inferrer_pb2.ModelSpec())\n",
    "\n",
    "context.run(bulk_inferrer)"
   ]
  }
 ],
 "metadata": {
  "kernelspec": {
   "display_name": "Python 3",
   "language": "python",
   "name": "python3"
  },
  "language_info": {
   "codemirror_mode": {
    "name": "ipython",
    "version": 3
   },
   "file_extension": ".py",
   "mimetype": "text/x-python",
   "name": "python",
   "nbconvert_exporter": "python",
   "pygments_lexer": "ipython3",
   "version": "3.8.8"
  }
 },
 "nbformat": 4,
 "nbformat_minor": 5
}
